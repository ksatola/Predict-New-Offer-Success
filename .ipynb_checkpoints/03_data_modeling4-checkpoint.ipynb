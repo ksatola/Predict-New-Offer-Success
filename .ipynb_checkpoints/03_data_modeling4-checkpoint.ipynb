{
 "cells": [
  {
   "cell_type": "code",
   "execution_count": 1,
   "metadata": {},
   "outputs": [],
   "source": [
    "import pandas as pd\n",
    "import numpy as np\n",
    "\n",
    "import pyarrow\n",
    "\n",
    "import matplotlib.pyplot as plt\n",
    "\n",
    "from sklearn.model_selection import train_test_split\n",
    "\n",
    "#!conda install -c conda-forge xgboost\n",
    "import xgboost as xgb\n",
    "\n",
    "%matplotlib inline\n",
    "\n",
    "from sklearn.model_selection import KFold\n",
    "from sklearn.model_selection import cross_val_score\n",
    "from sklearn.model_selection import GridSearchCV\n",
    "from sklearn.metrics import classification_report\n",
    "from sklearn.metrics import confusion_matrix\n",
    "from sklearn.metrics import accuracy_score\n",
    "\n",
    "from sklearn.linear_model import LogisticRegression\n",
    "from sklearn.tree import DecisionTreeClassifier\n",
    "from sklearn.neighbors import KNeighborsClassifier\n",
    "from sklearn.discriminant_analysis import LinearDiscriminantAnalysis\n",
    "from sklearn.naive_bayes import GaussianNB\n",
    "from sklearn.svm import SVC\n",
    "from sklearn.ensemble import AdaBoostClassifier\n",
    "from sklearn.ensemble import GradientBoostingClassifier\n",
    "from sklearn.ensemble import RandomForestClassifier\n",
    "from sklearn.ensemble import ExtraTreesClassifier\n",
    "\n",
    "from pickle import dump\n",
    "from pickle import load"
   ]
  },
  {
   "cell_type": "markdown",
   "metadata": {},
   "source": [
    "## Load the data"
   ]
  },
  {
   "cell_type": "code",
   "execution_count": 2,
   "metadata": {},
   "outputs": [],
   "source": [
    "df = pd.read_parquet('client_database_preprocessed.parquet', engine='pyarrow')"
   ]
  },
  {
   "cell_type": "code",
   "execution_count": 3,
   "metadata": {},
   "outputs": [
    {
     "data": {
      "text/plain": [
       "(1284, 13)"
      ]
     },
     "execution_count": 3,
     "metadata": {},
     "output_type": "execute_result"
    }
   ],
   "source": [
    "oryg_shape = df.shape\n",
    "oryg_shape"
   ]
  },
  {
   "cell_type": "code",
   "execution_count": 4,
   "metadata": {},
   "outputs": [
    {
     "name": "stdout",
     "output_type": "stream",
     "text": [
      "<class 'pandas.core.frame.DataFrame'>\n",
      "Int64Index: 1284 entries, 0 to 1283\n",
      "Data columns (total 13 columns):\n",
      "accepted               1284 non-null float64\n",
      "gender                 1284 non-null float64\n",
      "age                    1284 non-null float64\n",
      "phone_calls            1284 non-null float64\n",
      "emails                 1284 non-null float64\n",
      "salary                 1284 non-null float64\n",
      "estimated_expenses     1284 non-null float64\n",
      "customer_type_C        1284 non-null float64\n",
      "customer_type_Q        1284 non-null float64\n",
      "customer_type_S        1284 non-null float64\n",
      "offer_class_High       1284 non-null float64\n",
      "offer_class_Medium     1284 non-null float64\n",
      "offer_class_Premium    1284 non-null float64\n",
      "dtypes: float64(13)\n",
      "memory usage: 140.4 KB\n"
     ]
    }
   ],
   "source": [
    "df.info()"
   ]
  },
  {
   "cell_type": "code",
   "execution_count": 5,
   "metadata": {},
   "outputs": [
    {
     "data": {
      "text/html": [
       "<div>\n",
       "<style scoped>\n",
       "    .dataframe tbody tr th:only-of-type {\n",
       "        vertical-align: middle;\n",
       "    }\n",
       "\n",
       "    .dataframe tbody tr th {\n",
       "        vertical-align: top;\n",
       "    }\n",
       "\n",
       "    .dataframe thead th {\n",
       "        text-align: right;\n",
       "    }\n",
       "</style>\n",
       "<table border=\"1\" class=\"dataframe\">\n",
       "  <thead>\n",
       "    <tr style=\"text-align: right;\">\n",
       "      <th></th>\n",
       "      <th>accepted</th>\n",
       "      <th>gender</th>\n",
       "      <th>age</th>\n",
       "      <th>phone_calls</th>\n",
       "      <th>emails</th>\n",
       "      <th>salary</th>\n",
       "      <th>estimated_expenses</th>\n",
       "      <th>customer_type_C</th>\n",
       "      <th>customer_type_Q</th>\n",
       "      <th>customer_type_S</th>\n",
       "      <th>offer_class_High</th>\n",
       "      <th>offer_class_Medium</th>\n",
       "      <th>offer_class_Premium</th>\n",
       "    </tr>\n",
       "  </thead>\n",
       "  <tbody>\n",
       "    <tr>\n",
       "      <th>0</th>\n",
       "      <td>1.0</td>\n",
       "      <td>0.0</td>\n",
       "      <td>0.177419</td>\n",
       "      <td>0.000</td>\n",
       "      <td>0.0</td>\n",
       "      <td>0.412503</td>\n",
       "      <td>0.517787</td>\n",
       "      <td>0.0</td>\n",
       "      <td>0.0</td>\n",
       "      <td>1.0</td>\n",
       "      <td>0.0</td>\n",
       "      <td>1.0</td>\n",
       "      <td>0.0</td>\n",
       "    </tr>\n",
       "    <tr>\n",
       "      <th>1</th>\n",
       "      <td>1.0</td>\n",
       "      <td>1.0</td>\n",
       "      <td>0.193548</td>\n",
       "      <td>0.125</td>\n",
       "      <td>0.2</td>\n",
       "      <td>0.295806</td>\n",
       "      <td>0.287459</td>\n",
       "      <td>0.0</td>\n",
       "      <td>0.0</td>\n",
       "      <td>1.0</td>\n",
       "      <td>0.0</td>\n",
       "      <td>1.0</td>\n",
       "      <td>0.0</td>\n",
       "    </tr>\n",
       "    <tr>\n",
       "      <th>2</th>\n",
       "      <td>0.0</td>\n",
       "      <td>0.0</td>\n",
       "      <td>0.193548</td>\n",
       "      <td>0.125</td>\n",
       "      <td>0.3</td>\n",
       "      <td>0.295806</td>\n",
       "      <td>0.089689</td>\n",
       "      <td>0.0</td>\n",
       "      <td>0.0</td>\n",
       "      <td>1.0</td>\n",
       "      <td>0.0</td>\n",
       "      <td>1.0</td>\n",
       "      <td>0.0</td>\n",
       "    </tr>\n",
       "    <tr>\n",
       "      <th>3</th>\n",
       "      <td>0.0</td>\n",
       "      <td>1.0</td>\n",
       "      <td>0.193548</td>\n",
       "      <td>0.125</td>\n",
       "      <td>0.2</td>\n",
       "      <td>0.295806</td>\n",
       "      <td>0.376244</td>\n",
       "      <td>0.0</td>\n",
       "      <td>0.0</td>\n",
       "      <td>1.0</td>\n",
       "      <td>0.0</td>\n",
       "      <td>1.0</td>\n",
       "      <td>0.0</td>\n",
       "    </tr>\n",
       "    <tr>\n",
       "      <th>4</th>\n",
       "      <td>0.0</td>\n",
       "      <td>0.0</td>\n",
       "      <td>0.112903</td>\n",
       "      <td>0.125</td>\n",
       "      <td>0.2</td>\n",
       "      <td>0.295806</td>\n",
       "      <td>0.173802</td>\n",
       "      <td>0.0</td>\n",
       "      <td>0.0</td>\n",
       "      <td>1.0</td>\n",
       "      <td>0.0</td>\n",
       "      <td>1.0</td>\n",
       "      <td>0.0</td>\n",
       "    </tr>\n",
       "  </tbody>\n",
       "</table>\n",
       "</div>"
      ],
      "text/plain": [
       "   accepted  gender       age  phone_calls  emails    salary  \\\n",
       "0       1.0     0.0  0.177419        0.000     0.0  0.412503   \n",
       "1       1.0     1.0  0.193548        0.125     0.2  0.295806   \n",
       "2       0.0     0.0  0.193548        0.125     0.3  0.295806   \n",
       "3       0.0     1.0  0.193548        0.125     0.2  0.295806   \n",
       "4       0.0     0.0  0.112903        0.125     0.2  0.295806   \n",
       "\n",
       "   estimated_expenses  customer_type_C  customer_type_Q  customer_type_S  \\\n",
       "0            0.517787              0.0              0.0              1.0   \n",
       "1            0.287459              0.0              0.0              1.0   \n",
       "2            0.089689              0.0              0.0              1.0   \n",
       "3            0.376244              0.0              0.0              1.0   \n",
       "4            0.173802              0.0              0.0              1.0   \n",
       "\n",
       "   offer_class_High  offer_class_Medium  offer_class_Premium  \n",
       "0               0.0                 1.0                  0.0  \n",
       "1               0.0                 1.0                  0.0  \n",
       "2               0.0                 1.0                  0.0  \n",
       "3               0.0                 1.0                  0.0  \n",
       "4               0.0                 1.0                  0.0  "
      ]
     },
     "execution_count": 5,
     "metadata": {},
     "output_type": "execute_result"
    }
   ],
   "source": [
    "df.head()"
   ]
  },
  {
   "cell_type": "markdown",
   "metadata": {},
   "source": [
    "## Training and Validation Sets"
   ]
  },
  {
   "cell_type": "code",
   "execution_count": 6,
   "metadata": {},
   "outputs": [],
   "source": [
    "# Randomize the dataset\n",
    "seed = 123\n",
    "np.random.seed(123)\n",
    "index_list = list(df.index)\n",
    "np.random.shuffle(index_list)\n",
    "df = df.iloc[index_list]\n",
    "\n",
    "# The frac keyword argument specifies the fraction of rows to return in the random sample, so frac=1 means return all rows (in random order).\n",
    "#df = df.sample(frac=1)"
   ]
  },
  {
   "cell_type": "code",
   "execution_count": 7,
   "metadata": {},
   "outputs": [],
   "source": [
    "# Take the target variable out from the dataset\n",
    "y = df.pop('accepted')"
   ]
  },
  {
   "cell_type": "code",
   "execution_count": 8,
   "metadata": {},
   "outputs": [
    {
     "name": "stdout",
     "output_type": "stream",
     "text": [
      "(1027, 12) (1027,)\n",
      "(257, 12) (257,)\n"
     ]
    }
   ],
   "source": [
    "# 80/20 Split\n",
    "X_train, X_test, y_train, y_test = train_test_split(df, y, test_size=0.2, random_state=seed)\n",
    "print(X_train.shape, y_train.shape)\n",
    "print(X_test.shape, y_test.shape)"
   ]
  },
  {
   "cell_type": "markdown",
   "metadata": {},
   "source": [
    "## Baseline\n",
    "\n",
    "- Linear Algorithms: Logistic Regression.\n",
    "- Nonlinear Algorithms: Classification and Regression Trees (CART), Support Vector Machines (SVM), Gaussian Naive Bayes (NB) and k-Nearest Neighbors (KNN)."
   ]
  },
  {
   "cell_type": "code",
   "execution_count": 9,
   "metadata": {},
   "outputs": [],
   "source": [
    "num_folds = 6\n",
    "seed = 123"
   ]
  },
  {
   "cell_type": "code",
   "execution_count": 10,
   "metadata": {},
   "outputs": [],
   "source": [
    "models = []\n",
    "models.append(('LR', LogisticRegression(solver='lbfgs'))) \n",
    "models.append(('KNN', KNeighborsClassifier())) \n",
    "models.append(('CART', DecisionTreeClassifier())) \n",
    "models.append(('NB', GaussianNB())) \n",
    "models.append(('SVM', SVC(gamma='scale')))\n",
    "#models.append(('XGB', xgb.XGBClassifier(objective=\"binary:logistic\", random_state=seed)))"
   ]
  },
  {
   "cell_type": "code",
   "execution_count": 11,
   "metadata": {},
   "outputs": [],
   "source": [
    "def score_models(models, scoring):\n",
    "    names = []\n",
    "    results = []\n",
    "    output = []\n",
    "    \n",
    "    for name, model in models:\n",
    "        names.append(name)\n",
    "        try:\n",
    "            # Not all scoring metrics are available for all models\n",
    "            \n",
    "            kfold = KFold(n_splits=num_folds, random_state=seed)\n",
    "            cv_results = cross_val_score(model, X_train, y_train, cv=kfold, scoring=scoring)\n",
    "            results.append(cv_results)\n",
    "            output.append('Model {}, mean accuracy {:0.2f}, (std. dev. {:0.2f})'.format(name, cv_results.mean(), cv_results.std()))\n",
    "        except:\n",
    "            output.append('Model {} {} metric unavailable)'.format(name, scoring))\n",
    "        \n",
    "    return output, results, names"
   ]
  },
  {
   "cell_type": "code",
   "execution_count": 12,
   "metadata": {},
   "outputs": [
    {
     "name": "stdout",
     "output_type": "stream",
     "text": [
      "Model LR, mean accuracy 0.78, (std. dev. 0.03)\n",
      "Model KNN, mean accuracy 0.76, (std. dev. 0.03)\n",
      "Model CART, mean accuracy 0.71, (std. dev. 0.02)\n",
      "Model NB, mean accuracy 0.75, (std. dev. 0.05)\n",
      "Model SVM, mean accuracy 0.79, (std. dev. 0.03)\n"
     ]
    }
   ],
   "source": [
    "# Classification Accuracy\n",
    "scores, results, names = score_models(models, 'accuracy')\n",
    "for score in scores:\n",
    "    print(score)"
   ]
  },
  {
   "cell_type": "code",
   "execution_count": 13,
   "metadata": {},
   "outputs": [
    {
     "data": {
      "image/png": "[encoded data removed]",
      "text/plain": [
       "<Figure size 1296x576 with 1 Axes>"
      ]
     },
     "metadata": {
      "needs_background": "light"
     },
     "output_type": "display_data"
    }
   ],
   "source": [
    "# Compare Algorithms\n",
    "fig = plt.figure(figsize=(18,8))\n",
    "fig.suptitle('Algorithm Comparison - Accuracy')\n",
    "ax = fig.add_subplot(111)\n",
    "plt.boxplot(results)\n",
    "ax.set_xticklabels(names)\n",
    "plt.show();"
   ]
  },
  {
   "cell_type": "code",
   "execution_count": 14,
   "metadata": {},
   "outputs": [
    {
     "name": "stdout",
     "output_type": "stream",
     "text": [
      "Model LR, mean accuracy -0.48, (std. dev. 0.04)\n",
      "Model KNN, mean accuracy -2.25, (std. dev. 0.35)\n",
      "Model CART, mean accuracy -10.36, (std. dev. 0.86)\n",
      "Model NB, mean accuracy -0.84, (std. dev. 0.20)\n",
      "Model SVM neg_log_loss metric unavailable)\n"
     ]
    }
   ],
   "source": [
    "# Logarithmic Loss\n",
    "scores, results, names = score_models(models, 'neg_log_loss')\n",
    "for score in scores:\n",
    "    print(score)"
   ]
  },
  {
   "cell_type": "code",
   "execution_count": 15,
   "metadata": {},
   "outputs": [
    {
     "data": {
      "image/png": "[encoded data removed]",
      "text/plain": [
       "<Figure size 1296x576 with 1 Axes>"
      ]
     },
     "metadata": {
      "needs_background": "light"
     },
     "output_type": "display_data"
    }
   ],
   "source": [
    "# Compare Algorithms\n",
    "fig = plt.figure(figsize=(18,8))\n",
    "fig.suptitle('Algorithm Comparison - Logarithmic Loss')\n",
    "ax = fig.add_subplot(111)\n",
    "plt.boxplot(results)\n",
    "ax.set_xticklabels(names)\n",
    "plt.show();"
   ]
  },
  {
   "cell_type": "code",
   "execution_count": 16,
   "metadata": {},
   "outputs": [
    {
     "name": "stdout",
     "output_type": "stream",
     "text": [
      "Model LR, mean accuracy 0.82, (std. dev. 0.03)\n",
      "Model KNN, mean accuracy 0.79, (std. dev. 0.03)\n",
      "Model CART, mean accuracy 0.69, (std. dev. 0.02)\n",
      "Model NB, mean accuracy 0.79, (std. dev. 0.04)\n",
      "Model SVM, mean accuracy 0.81, (std. dev. 0.03)\n"
     ]
    }
   ],
   "source": [
    "# Area Under ROC Curve\n",
    "# AUC should be close to 1 and greater than 0.5\n",
    "scores, results, names = score_models(models, 'roc_auc')\n",
    "for score in scores:\n",
    "    print(score)"
   ]
  },
  {
   "cell_type": "code",
   "execution_count": 17,
   "metadata": {},
   "outputs": [
    {
     "data": {
      "image/png": "[encoded data removed]",
      "text/plain": [
       "<Figure size 1296x576 with 1 Axes>"
      ]
     },
     "metadata": {
      "needs_background": "light"
     },
     "output_type": "display_data"
    }
   ],
   "source": [
    "# Compare Algorithms\n",
    "fig = plt.figure(figsize=(18,8))\n",
    "fig.suptitle('Algorithm Comparison - Area Under ROC Curve')\n",
    "ax = fig.add_subplot(111)\n",
    "plt.boxplot(results)\n",
    "ax.set_xticklabels(names)\n",
    "plt.show();"
   ]
  },
  {
   "cell_type": "markdown",
   "metadata": {},
   "source": [
    "## Hyper-parameter Tuning"
   ]
  },
  {
   "cell_type": "code",
   "execution_count": 18,
   "metadata": {},
   "outputs": [
    {
     "name": "stdout",
     "output_type": "stream",
     "text": [
      "0.71 (0.01) with: {'n_neighbors': 1}\n",
      "0.73 (0.02) with: {'n_neighbors': 3}\n",
      "0.76 (0.03) with: {'n_neighbors': 5}\n",
      "0.76 (0.03) with: {'n_neighbors': 7}\n",
      "0.76 (0.03) with: {'n_neighbors': 9}\n",
      "0.77 (0.03) with: {'n_neighbors': 11}\n",
      "0.78 (0.02) with: {'n_neighbors': 13}\n",
      "0.77 (0.03) with: {'n_neighbors': 15}\n",
      "0.78 (0.03) with: {'n_neighbors': 17}\n",
      "0.78 (0.03) with: {'n_neighbors': 19}\n",
      "0.77 (0.03) with: {'n_neighbors': 21}\n",
      "-------\n",
      "Best: 0.78 using {'n_neighbors': 13}\n"
     ]
    }
   ],
   "source": [
    "scoring = 'accuracy'\n",
    "\n",
    "# Tune KNN\n",
    "neighbors = [1, 3, 5, 7, 9, 11, 13, 15, 17, 19, 21]\n",
    "param_grid = dict(n_neighbors=neighbors)\n",
    "\n",
    "model = KNeighborsClassifier()\n",
    "kfold = KFold(n_splits=num_folds, random_state=seed)\n",
    "grid = GridSearchCV(estimator=model, param_grid=param_grid, scoring=scoring, cv=kfold)\n",
    "grid_result = grid.fit(X_train, y_train)\n",
    "\n",
    "means = grid_result.cv_results_['mean_test_score'] \n",
    "stds = grid_result.cv_results_['std_test_score'] \n",
    "params = grid_result.cv_results_['params']\n",
    "\n",
    "for mean, stdev, param in zip(means, stds, params):\n",
    "    print(\"{:0.2f} ({:0.2f}) with: {}\".format(mean, stdev, param))\n",
    "print('-------')\n",
    "print(\"Best: {:0.2f} using {}\".format(grid_result.best_score_, grid_result.best_params_))"
   ]
  },
  {
   "cell_type": "code",
   "execution_count": 19,
   "metadata": {},
   "outputs": [
    {
     "name": "stdout",
     "output_type": "stream",
     "text": [
      "0.77 (0.02) with: {'C': 0.1, 'gamma': 'scale', 'kernel': 'linear'}\n",
      "0.74 (0.06) with: {'C': 0.1, 'gamma': 'scale', 'kernel': 'poly'}\n",
      "0.77 (0.02) with: {'C': 0.1, 'gamma': 'scale', 'kernel': 'rbf'}\n",
      "0.77 (0.02) with: {'C': 0.1, 'gamma': 'scale', 'kernel': 'sigmoid'}\n",
      "0.77 (0.02) with: {'C': 0.1, 'gamma': 'auto', 'kernel': 'linear'}\n",
      "0.62 (0.03) with: {'C': 0.1, 'gamma': 'auto', 'kernel': 'poly'}\n",
      "0.77 (0.02) with: {'C': 0.1, 'gamma': 'auto', 'kernel': 'rbf'}\n",
      "0.75 (0.01) with: {'C': 0.1, 'gamma': 'auto', 'kernel': 'sigmoid'}\n",
      "0.77 (0.02) with: {'C': 0.3, 'gamma': 'scale', 'kernel': 'linear'}\n",
      "0.77 (0.02) with: {'C': 0.3, 'gamma': 'scale', 'kernel': 'poly'}\n",
      "0.78 (0.03) with: {'C': 0.3, 'gamma': 'scale', 'kernel': 'rbf'}\n",
      "0.77 (0.02) with: {'C': 0.3, 'gamma': 'scale', 'kernel': 'sigmoid'}\n",
      "0.77 (0.02) with: {'C': 0.3, 'gamma': 'auto', 'kernel': 'linear'}\n",
      "0.62 (0.03) with: {'C': 0.3, 'gamma': 'auto', 'kernel': 'poly'}\n",
      "0.77 (0.02) with: {'C': 0.3, 'gamma': 'auto', 'kernel': 'rbf'}\n",
      "0.77 (0.02) with: {'C': 0.3, 'gamma': 'auto', 'kernel': 'sigmoid'}\n",
      "0.77 (0.02) with: {'C': 0.5, 'gamma': 'scale', 'kernel': 'linear'}\n",
      "0.78 (0.02) with: {'C': 0.5, 'gamma': 'scale', 'kernel': 'poly'}\n",
      "0.79 (0.03) with: {'C': 0.5, 'gamma': 'scale', 'kernel': 'rbf'}\n",
      "0.77 (0.02) with: {'C': 0.5, 'gamma': 'scale', 'kernel': 'sigmoid'}\n",
      "0.77 (0.02) with: {'C': 0.5, 'gamma': 'auto', 'kernel': 'linear'}\n",
      "0.62 (0.03) with: {'C': 0.5, 'gamma': 'auto', 'kernel': 'poly'}\n",
      "0.77 (0.02) with: {'C': 0.5, 'gamma': 'auto', 'kernel': 'rbf'}\n",
      "0.77 (0.02) with: {'C': 0.5, 'gamma': 'auto', 'kernel': 'sigmoid'}\n",
      "0.77 (0.02) with: {'C': 0.7, 'gamma': 'scale', 'kernel': 'linear'}\n",
      "0.79 (0.03) with: {'C': 0.7, 'gamma': 'scale', 'kernel': 'poly'}\n",
      "0.79 (0.03) with: {'C': 0.7, 'gamma': 'scale', 'kernel': 'rbf'}\n",
      "0.76 (0.03) with: {'C': 0.7, 'gamma': 'scale', 'kernel': 'sigmoid'}\n",
      "0.77 (0.02) with: {'C': 0.7, 'gamma': 'auto', 'kernel': 'linear'}\n",
      "0.62 (0.03) with: {'C': 0.7, 'gamma': 'auto', 'kernel': 'poly'}\n",
      "0.77 (0.02) with: {'C': 0.7, 'gamma': 'auto', 'kernel': 'rbf'}\n",
      "0.77 (0.02) with: {'C': 0.7, 'gamma': 'auto', 'kernel': 'sigmoid'}\n",
      "0.77 (0.02) with: {'C': 0.9, 'gamma': 'scale', 'kernel': 'linear'}\n",
      "0.79 (0.03) with: {'C': 0.9, 'gamma': 'scale', 'kernel': 'poly'}\n",
      "0.79 (0.03) with: {'C': 0.9, 'gamma': 'scale', 'kernel': 'rbf'}\n",
      "0.73 (0.03) with: {'C': 0.9, 'gamma': 'scale', 'kernel': 'sigmoid'}\n",
      "0.77 (0.02) with: {'C': 0.9, 'gamma': 'auto', 'kernel': 'linear'}\n",
      "0.64 (0.04) with: {'C': 0.9, 'gamma': 'auto', 'kernel': 'poly'}\n",
      "0.77 (0.02) with: {'C': 0.9, 'gamma': 'auto', 'kernel': 'rbf'}\n",
      "0.77 (0.02) with: {'C': 0.9, 'gamma': 'auto', 'kernel': 'sigmoid'}\n",
      "0.77 (0.02) with: {'C': 1.0, 'gamma': 'scale', 'kernel': 'linear'}\n",
      "0.79 (0.03) with: {'C': 1.0, 'gamma': 'scale', 'kernel': 'poly'}\n",
      "0.79 (0.03) with: {'C': 1.0, 'gamma': 'scale', 'kernel': 'rbf'}\n",
      "0.72 (0.02) with: {'C': 1.0, 'gamma': 'scale', 'kernel': 'sigmoid'}\n",
      "0.77 (0.02) with: {'C': 1.0, 'gamma': 'auto', 'kernel': 'linear'}\n",
      "0.64 (0.05) with: {'C': 1.0, 'gamma': 'auto', 'kernel': 'poly'}\n",
      "0.77 (0.02) with: {'C': 1.0, 'gamma': 'auto', 'kernel': 'rbf'}\n",
      "0.77 (0.02) with: {'C': 1.0, 'gamma': 'auto', 'kernel': 'sigmoid'}\n",
      "0.77 (0.02) with: {'C': 1.3, 'gamma': 'scale', 'kernel': 'linear'}\n",
      "0.79 (0.03) with: {'C': 1.3, 'gamma': 'scale', 'kernel': 'poly'}\n",
      "0.79 (0.03) with: {'C': 1.3, 'gamma': 'scale', 'kernel': 'rbf'}\n",
      "0.70 (0.01) with: {'C': 1.3, 'gamma': 'scale', 'kernel': 'sigmoid'}\n",
      "0.77 (0.02) with: {'C': 1.3, 'gamma': 'auto', 'kernel': 'linear'}\n",
      "0.72 (0.06) with: {'C': 1.3, 'gamma': 'auto', 'kernel': 'poly'}\n",
      "0.77 (0.02) with: {'C': 1.3, 'gamma': 'auto', 'kernel': 'rbf'}\n",
      "0.77 (0.02) with: {'C': 1.3, 'gamma': 'auto', 'kernel': 'sigmoid'}\n",
      "0.77 (0.02) with: {'C': 1.5, 'gamma': 'scale', 'kernel': 'linear'}\n",
      "0.79 (0.03) with: {'C': 1.5, 'gamma': 'scale', 'kernel': 'poly'}\n",
      "0.79 (0.03) with: {'C': 1.5, 'gamma': 'scale', 'kernel': 'rbf'}\n",
      "0.67 (0.02) with: {'C': 1.5, 'gamma': 'scale', 'kernel': 'sigmoid'}\n",
      "0.77 (0.02) with: {'C': 1.5, 'gamma': 'auto', 'kernel': 'linear'}\n",
      "0.75 (0.04) with: {'C': 1.5, 'gamma': 'auto', 'kernel': 'poly'}\n",
      "0.77 (0.02) with: {'C': 1.5, 'gamma': 'auto', 'kernel': 'rbf'}\n",
      "0.77 (0.02) with: {'C': 1.5, 'gamma': 'auto', 'kernel': 'sigmoid'}\n",
      "0.77 (0.02) with: {'C': 1.7, 'gamma': 'scale', 'kernel': 'linear'}\n",
      "0.79 (0.03) with: {'C': 1.7, 'gamma': 'scale', 'kernel': 'poly'}\n",
      "0.79 (0.03) with: {'C': 1.7, 'gamma': 'scale', 'kernel': 'rbf'}\n",
      "0.66 (0.04) with: {'C': 1.7, 'gamma': 'scale', 'kernel': 'sigmoid'}\n",
      "0.77 (0.02) with: {'C': 1.7, 'gamma': 'auto', 'kernel': 'linear'}\n",
      "0.77 (0.03) with: {'C': 1.7, 'gamma': 'auto', 'kernel': 'poly'}\n",
      "0.78 (0.03) with: {'C': 1.7, 'gamma': 'auto', 'kernel': 'rbf'}\n",
      "0.77 (0.02) with: {'C': 1.7, 'gamma': 'auto', 'kernel': 'sigmoid'}\n",
      "0.77 (0.02) with: {'C': 2.0, 'gamma': 'scale', 'kernel': 'linear'}\n",
      "0.79 (0.03) with: {'C': 2.0, 'gamma': 'scale', 'kernel': 'poly'}\n",
      "0.79 (0.03) with: {'C': 2.0, 'gamma': 'scale', 'kernel': 'rbf'}\n",
      "0.68 (0.02) with: {'C': 2.0, 'gamma': 'scale', 'kernel': 'sigmoid'}\n",
      "0.77 (0.02) with: {'C': 2.0, 'gamma': 'auto', 'kernel': 'linear'}\n",
      "0.76 (0.03) with: {'C': 2.0, 'gamma': 'auto', 'kernel': 'poly'}\n",
      "0.78 (0.03) with: {'C': 2.0, 'gamma': 'auto', 'kernel': 'rbf'}\n",
      "0.77 (0.02) with: {'C': 2.0, 'gamma': 'auto', 'kernel': 'sigmoid'}\n",
      "-------\n",
      "Best: 0.79 using {'C': 0.7, 'gamma': 'scale', 'kernel': 'rbf'}\n"
     ]
    }
   ],
   "source": [
    "# Tune SVM\n",
    "c_values = [0.1, 0.3, 0.5, 0.7, 0.9, 1.0, 1.3, 1.5, 1.7, 2.0]\n",
    "kernel_values = ['linear', 'poly', 'rbf', 'sigmoid']\n",
    "gamma = ['scale', 'auto']\n",
    "param_grid = dict(C=c_values, kernel=kernel_values, gamma=gamma)\n",
    "\n",
    "model = SVC()\n",
    "kfold = KFold(n_splits=num_folds, random_state=seed)\n",
    "grid = GridSearchCV(estimator=model, param_grid=param_grid, scoring=scoring, cv=kfold) \n",
    "grid_result = grid.fit(X_train, y_train)\n",
    "\n",
    "means = grid_result.cv_results_['mean_test_score'] \n",
    "stds = grid_result.cv_results_['std_test_score'] \n",
    "params = grid_result.cv_results_['params']\n",
    "\n",
    "for mean, stdev, param in zip(means, stds, params):\n",
    "    print(\"{:0.2f} ({:0.2f}) with: {}\".format(mean, stdev, param))\n",
    "print('-------')\n",
    "print(\"Best: {:0.2f} using {}\".format(grid_result.best_score_, grid_result.best_params_))"
   ]
  },
  {
   "cell_type": "markdown",
   "metadata": {},
   "source": [
    "## Ensemble methods\n",
    "- Boosting Methods: AdaBoost (AB) and Gradient Boosting (GBM).\n",
    "- Bagging Methods: Random Forests (RF) and Extra Trees (ET)."
   ]
  },
  {
   "cell_type": "code",
   "execution_count": 20,
   "metadata": {},
   "outputs": [],
   "source": [
    "ensembles = []\n",
    "ensembles.append(('AB', AdaBoostClassifier()))\n",
    "ensembles.append(('GBM', GradientBoostingClassifier()))\n",
    "ensembles.append(('RF', RandomForestClassifier(n_estimators=100)))\n",
    "ensembles.append(('ET', ExtraTreesClassifier(n_estimators=100)))"
   ]
  },
  {
   "cell_type": "code",
   "execution_count": 21,
   "metadata": {},
   "outputs": [
    {
     "name": "stdout",
     "output_type": "stream",
     "text": [
      "Model AB, mean accuracy 0.76, (std. dev. 0.03)\n",
      "Model GBM, mean accuracy 0.79, (std. dev. 0.03)\n",
      "Model RF, mean accuracy 0.78, (std. dev. 0.02)\n",
      "Model ET, mean accuracy 0.76, (std. dev. 0.02)\n"
     ]
    }
   ],
   "source": [
    "names = []\n",
    "results = []\n",
    "\n",
    "for name, model in ensembles:\n",
    "    names.append(name)\n",
    "    kfold = KFold(n_splits=num_folds, random_state=seed)\n",
    "    cv_results = cross_val_score(model, X_train, y_train, cv=kfold, scoring=scoring)\n",
    "    results.append(cv_results)\n",
    "    print('Model {}, mean accuracy {:0.2f}, (std. dev. {:0.2f})'.format(name, cv_results.mean(), cv_results.std()))"
   ]
  },
  {
   "cell_type": "code",
   "execution_count": 22,
   "metadata": {},
   "outputs": [
    {
     "data": {
      "image/png": "[encoded data removed]",
      "text/plain": [
       "<Figure size 1296x576 with 1 Axes>"
      ]
     },
     "metadata": {
      "needs_background": "light"
     },
     "output_type": "display_data"
    }
   ],
   "source": [
    "# Compare Algorithms\n",
    "fig = plt.figure(figsize=(18,8))\n",
    "fig.suptitle('Algorithm Comparison')\n",
    "ax = fig.add_subplot(111)\n",
    "plt.boxplot(results)\n",
    "ax.set_xticklabels(names)\n",
    "plt.show();"
   ]
  },
  {
   "cell_type": "markdown",
   "metadata": {},
   "source": [
    "## Finalize model\n",
    "Finalize the model by training it on the entire training dataset and make predictions for the hold-out validation dataset to confirm our finding"
   ]
  },
  {
   "cell_type": "code",
   "execution_count": 23,
   "metadata": {},
   "outputs": [],
   "source": [
    "model = LogisticRegression(solver='lbfgs')\n",
    "model.fit(X_train, y_train)\n",
    "\n",
    "# Estimate accuracy on validation dataset\n",
    "predictions = model.predict(X_test)"
   ]
  },
  {
   "cell_type": "code",
   "execution_count": 24,
   "metadata": {},
   "outputs": [
    {
     "name": "stdout",
     "output_type": "stream",
     "text": [
      "0.8015564202334631\n",
      "[[137  24]\n",
      " [ 27  69]]\n",
      "              precision    recall  f1-score   support\n",
      "\n",
      "         0.0       0.84      0.85      0.84       161\n",
      "         1.0       0.74      0.72      0.73        96\n",
      "\n",
      "   micro avg       0.80      0.80      0.80       257\n",
      "   macro avg       0.79      0.78      0.79       257\n",
      "weighted avg       0.80      0.80      0.80       257\n",
      "\n"
     ]
    }
   ],
   "source": [
    "print(accuracy_score(y_test, predictions))\n",
    "print(confusion_matrix(y_test, predictions))\n",
    "print(classification_report(y_test, predictions))"
   ]
  },
  {
   "cell_type": "code",
   "execution_count": 25,
   "metadata": {},
   "outputs": [],
   "source": [
    "model = SVC(gamma='scale', C=0.7, kernel='rbf')\n",
    "model.fit(X_train, y_train)\n",
    "\n",
    "# Estimate accuracy on validation dataset\n",
    "predictions = model.predict(X_test)"
   ]
  },
  {
   "cell_type": "code",
   "execution_count": 26,
   "metadata": {},
   "outputs": [
    {
     "name": "stdout",
     "output_type": "stream",
     "text": [
      "0.8287937743190662\n",
      "[[154   7]\n",
      " [ 37  59]]\n",
      "              precision    recall  f1-score   support\n",
      "\n",
      "         0.0       0.81      0.96      0.88       161\n",
      "         1.0       0.89      0.61      0.73        96\n",
      "\n",
      "   micro avg       0.83      0.83      0.83       257\n",
      "   macro avg       0.85      0.79      0.80       257\n",
      "weighted avg       0.84      0.83      0.82       257\n",
      "\n"
     ]
    }
   ],
   "source": [
    "print(accuracy_score(y_test, predictions))\n",
    "print(confusion_matrix(y_test, predictions))\n",
    "print(classification_report(y_test, predictions))"
   ]
  },
  {
   "cell_type": "markdown",
   "metadata": {},
   "source": [
    "## Train the final model on all available data"
   ]
  },
  {
   "cell_type": "code",
   "execution_count": 27,
   "metadata": {},
   "outputs": [
    {
     "data": {
      "text/plain": [
       "((1027, 12), (257, 12), (1284, 12))"
      ]
     },
     "execution_count": 27,
     "metadata": {},
     "output_type": "execute_result"
    }
   ],
   "source": [
    "sh1 = X_train.shape\n",
    "sh2 = X_test.shape\n",
    "X_train = X_train.append(X_test, ignore_index=True)\n",
    "sh1, sh2, X_train.shape"
   ]
  },
  {
   "cell_type": "code",
   "execution_count": 28,
   "metadata": {},
   "outputs": [
    {
     "data": {
      "text/plain": [
       "((1027,), (257,), (1284,))"
      ]
     },
     "execution_count": 28,
     "metadata": {},
     "output_type": "execute_result"
    }
   ],
   "source": [
    "sh1 = y_train.shape\n",
    "sh2 = y_test.shape\n",
    "y_train = y_train.append(y_test)\n",
    "sh1, sh2, y_train.shape"
   ]
  },
  {
   "cell_type": "code",
   "execution_count": 29,
   "metadata": {},
   "outputs": [
    {
     "data": {
      "text/plain": [
       "SVC(C=0.7, cache_size=200, class_weight=None, coef0=0.0,\n",
       "  decision_function_shape='ovr', degree=3, gamma='scale', kernel='rbf',\n",
       "  max_iter=-1, probability=False, random_state=None, shrinking=True,\n",
       "  tol=0.001, verbose=False)"
      ]
     },
     "execution_count": 29,
     "metadata": {},
     "output_type": "execute_result"
    }
   ],
   "source": [
    "model.fit(X_train, y_train)"
   ]
  },
  {
   "cell_type": "markdown",
   "metadata": {},
   "source": [
    "## Save model to disk"
   ]
  },
  {
   "cell_type": "code",
   "execution_count": 30,
   "metadata": {},
   "outputs": [],
   "source": [
    "# Save the model to disk\n",
    "filename = 'finalized_model.sav'\n",
    "dump(model, open(filename, 'wb'))"
   ]
  },
  {
   "cell_type": "code",
   "execution_count": 31,
   "metadata": {},
   "outputs": [
    {
     "name": "stdout",
     "output_type": "stream",
     "text": [
      "0.8287937743190662\n"
     ]
    }
   ],
   "source": [
    "# Test\n",
    "# Load the model from disk\n",
    "loaded_model = load(open(filename, 'rb'))\n",
    "result = loaded_model.score(X_test, y_test)\n",
    "print(result)"
   ]
  },
  {
   "cell_type": "code",
   "execution_count": null,
   "metadata": {},
   "outputs": [],
   "source": []
  }
 ],
 "metadata": {
  "kernelspec": {
   "display_name": "Python 3",
   "language": "python",
   "name": "python3"
  },
  "language_info": {
   "codemirror_mode": {
    "name": "ipython",
    "version": 3
   },
   "file_extension": ".py",
   "mimetype": "text/x-python",
   "name": "python",
   "nbconvert_exporter": "python",
   "pygments_lexer": "ipython3",
   "version": "3.7.1"
  }
 },
 "nbformat": 4,
 "nbformat_minor": 2
}
