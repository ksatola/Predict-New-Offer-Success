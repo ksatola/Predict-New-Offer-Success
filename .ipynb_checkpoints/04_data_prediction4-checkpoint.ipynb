{
 "cells": [
  {
   "cell_type": "code",
   "execution_count": 1,
   "metadata": {},
   "outputs": [],
   "source": [
    "import pandas as pd\n",
    "import numpy as np\n",
    "\n",
    "import pyarrow\n",
    "\n",
    "from sklearn.svm import SVC\n",
    "\n",
    "from pickle import dump\n",
    "from pickle import load"
   ]
  },
  {
   "cell_type": "markdown",
   "metadata": {},
   "source": [
    "## Load the data"
   ]
  },
  {
   "cell_type": "code",
   "execution_count": 2,
   "metadata": {},
   "outputs": [],
   "source": [
    "df = pd.read_parquet('client_database.parquet', engine='pyarrow')"
   ]
  },
  {
   "cell_type": "markdown",
   "metadata": {},
   "source": [
    "## Prepare data for prediction"
   ]
  },
  {
   "cell_type": "code",
   "execution_count": 3,
   "metadata": {},
   "outputs": [],
   "source": [
    "# Gather all data cleaning operations in one function\n",
    "def clean_data(df):\n",
    "\n",
    "    # Drop unneeded columns\n",
    "    df.drop(columns=['number', 'name', 'offer_code', 'customer_code'], inplace=True)\n",
    "    \n",
    "    # Replace age, offer_value NaN with the feature median\n",
    "    df[['age']] = df[['age']].fillna(df.median())\n",
    "    df[['offer_value']] = df[['offer_value']].fillna(df.median())\n",
    "    df[['salary']] = df[['salary']].fillna(df.median())\n",
    "    df[['phone_calls']] = df[['phone_calls']].fillna(df.median())\n",
    "    df[['estimated_expenses']] = df[['estimated_expenses']].fillna(df.median())\n",
    "    df[['emails']] = df[['emails']].fillna(df.median())\n",
    "    \n",
    "    # Abandon rows where there is NaN in the center, offer_code and customer_type columns\n",
    "    df = df[~df.center.isna()]\n",
    "    df = df[~df.customer_type.isna()]\n",
    "    \n",
    "    return df"
   ]
  },
  {
   "cell_type": "code",
   "execution_count": 4,
   "metadata": {},
   "outputs": [],
   "source": [
    "from sklearn import preprocessing\n",
    "\n",
    "# Gather all data preprocessing operations in one function\n",
    "def preprocess_data(df):\n",
    "    \n",
    "    df_num = df.select_dtypes(include = ['float64'])\n",
    "    df_cat = df[list(set(df.columns) - set(df_num.columns))]\n",
    "    \n",
    "    # Divide into binary and multi-category\n",
    "    cat_binary = []\n",
    "    cat_multi = []\n",
    "    for feature in df_cat:\n",
    "        if df_cat[feature].nunique() > 2:\n",
    "            cat_multi.append(feature)\n",
    "        else:\n",
    "            cat_binary.append(feature)\n",
    "            \n",
    "    # Encode categorical features\n",
    "    df['center'].replace(['B', 'A'], [1, 0], inplace=True)\n",
    "    df['gender'].replace(['male', 'female'], [1, 0], inplace=True)\n",
    "    df['accepted'].replace(['yes', 'no'], [1, 0], inplace=True)\n",
    "    \n",
    "    # One-hot-encoding\n",
    "    df = pd.get_dummies(df, columns=cat_multi)\n",
    "    \n",
    "    # Re-order columns\n",
    "    ordered_columns = ['accepted', 'gender', 'age', 'phone_calls', 'emails', \n",
    "                   'salary', 'offer_value', 'estimated_expenses', 'center', \n",
    "                   'customer_type_C', 'customer_type_Q', 'customer_type_S', \n",
    "                   'offer_class_High', 'offer_class_Medium', 'offer_class_Premium']\n",
    "    df = df[ordered_columns]\n",
    "    \n",
    "    corr = df.corr()\n",
    "    c = corr['accepted']\n",
    "    \n",
    "    # Remove columns not correlated enough with the target feature\n",
    "    not_enough_threshold = 0.01\n",
    "    c = c[c.abs() < not_enough_threshold]\n",
    "    columns_to_drop = c.sort_values(ascending=False)\n",
    "    df.drop(columns=list(columns_to_drop.index), inplace=True)\n",
    "    \n",
    "    # Rescale data between 0 and 1\n",
    "    x = df.values #returns a numpy array\n",
    "    scaler = preprocessing.MinMaxScaler()\n",
    "    x_scaled = scaler.fit_transform(x)\n",
    "    cols = df.columns\n",
    "    df = pd.DataFrame(x_scaled, columns=cols)\n",
    "    \n",
    "    return df"
   ]
  },
  {
   "cell_type": "code",
   "execution_count": 5,
   "metadata": {},
   "outputs": [],
   "source": [
    "df = clean_data(df)\n",
    "df = preprocess_data(df)"
   ]
  },
  {
   "cell_type": "markdown",
   "metadata": {},
   "source": [
    "## Load the model"
   ]
  },
  {
   "cell_type": "code",
   "execution_count": 6,
   "metadata": {},
   "outputs": [],
   "source": [
    "# Load the model from disk\n",
    "filename = 'finalized_model.sav'\n",
    "model = load(open(filename, 'rb'))"
   ]
  },
  {
   "cell_type": "markdown",
   "metadata": {},
   "source": [
    "## Predict"
   ]
  },
  {
   "cell_type": "code",
   "execution_count": 7,
   "metadata": {},
   "outputs": [],
   "source": [
    "y = df.pop('accepted')"
   ]
  },
  {
   "cell_type": "code",
   "execution_count": 8,
   "metadata": {},
   "outputs": [],
   "source": [
    "predictions = model.predict(df)"
   ]
  },
  {
   "cell_type": "markdown",
   "metadata": {},
   "source": [
    "## Return list of customers to which an offer should be sent"
   ]
  },
  {
   "cell_type": "code",
   "execution_count": 9,
   "metadata": {},
   "outputs": [
    {
     "data": {
      "text/plain": [
       "array([1., 0., 1., ..., 0., 0., 0.])"
      ]
     },
     "execution_count": 9,
     "metadata": {},
     "output_type": "execute_result"
    }
   ],
   "source": [
    "predictions"
   ]
  },
  {
   "cell_type": "code",
   "execution_count": 10,
   "metadata": {},
   "outputs": [],
   "source": [
    "predicted = pd.Series(predictions)"
   ]
  },
  {
   "cell_type": "code",
   "execution_count": 11,
   "metadata": {},
   "outputs": [
    {
     "data": {
      "text/html": [
       "<div>\n",
       "<style scoped>\n",
       "    .dataframe tbody tr th:only-of-type {\n",
       "        vertical-align: middle;\n",
       "    }\n",
       "\n",
       "    .dataframe tbody tr th {\n",
       "        vertical-align: top;\n",
       "    }\n",
       "\n",
       "    .dataframe thead th {\n",
       "        text-align: right;\n",
       "    }\n",
       "</style>\n",
       "<table border=\"1\" class=\"dataframe\">\n",
       "  <thead>\n",
       "    <tr style=\"text-align: right;\">\n",
       "      <th></th>\n",
       "      <th>gender</th>\n",
       "      <th>age</th>\n",
       "      <th>phone_calls</th>\n",
       "      <th>emails</th>\n",
       "      <th>salary</th>\n",
       "      <th>estimated_expenses</th>\n",
       "      <th>customer_type_C</th>\n",
       "      <th>customer_type_Q</th>\n",
       "      <th>customer_type_S</th>\n",
       "      <th>offer_class_High</th>\n",
       "      <th>offer_class_Medium</th>\n",
       "      <th>offer_class_Premium</th>\n",
       "      <th>actual</th>\n",
       "      <th>predicted</th>\n",
       "    </tr>\n",
       "  </thead>\n",
       "  <tbody>\n",
       "    <tr>\n",
       "      <th>0</th>\n",
       "      <td>0.0</td>\n",
       "      <td>0.177419</td>\n",
       "      <td>0.000</td>\n",
       "      <td>0.0</td>\n",
       "      <td>0.412503</td>\n",
       "      <td>0.517787</td>\n",
       "      <td>0.0</td>\n",
       "      <td>0.0</td>\n",
       "      <td>1.0</td>\n",
       "      <td>0.0</td>\n",
       "      <td>1.0</td>\n",
       "      <td>0.0</td>\n",
       "      <td>1.0</td>\n",
       "      <td>1.0</td>\n",
       "    </tr>\n",
       "    <tr>\n",
       "      <th>1</th>\n",
       "      <td>1.0</td>\n",
       "      <td>0.193548</td>\n",
       "      <td>0.125</td>\n",
       "      <td>0.2</td>\n",
       "      <td>0.295806</td>\n",
       "      <td>0.287459</td>\n",
       "      <td>0.0</td>\n",
       "      <td>0.0</td>\n",
       "      <td>1.0</td>\n",
       "      <td>0.0</td>\n",
       "      <td>1.0</td>\n",
       "      <td>0.0</td>\n",
       "      <td>1.0</td>\n",
       "      <td>0.0</td>\n",
       "    </tr>\n",
       "    <tr>\n",
       "      <th>2</th>\n",
       "      <td>0.0</td>\n",
       "      <td>0.193548</td>\n",
       "      <td>0.125</td>\n",
       "      <td>0.3</td>\n",
       "      <td>0.295806</td>\n",
       "      <td>0.089689</td>\n",
       "      <td>0.0</td>\n",
       "      <td>0.0</td>\n",
       "      <td>1.0</td>\n",
       "      <td>0.0</td>\n",
       "      <td>1.0</td>\n",
       "      <td>0.0</td>\n",
       "      <td>0.0</td>\n",
       "      <td>1.0</td>\n",
       "    </tr>\n",
       "    <tr>\n",
       "      <th>3</th>\n",
       "      <td>1.0</td>\n",
       "      <td>0.193548</td>\n",
       "      <td>0.125</td>\n",
       "      <td>0.2</td>\n",
       "      <td>0.295806</td>\n",
       "      <td>0.376244</td>\n",
       "      <td>0.0</td>\n",
       "      <td>0.0</td>\n",
       "      <td>1.0</td>\n",
       "      <td>0.0</td>\n",
       "      <td>1.0</td>\n",
       "      <td>0.0</td>\n",
       "      <td>0.0</td>\n",
       "      <td>0.0</td>\n",
       "    </tr>\n",
       "    <tr>\n",
       "      <th>4</th>\n",
       "      <td>0.0</td>\n",
       "      <td>0.112903</td>\n",
       "      <td>0.125</td>\n",
       "      <td>0.2</td>\n",
       "      <td>0.295806</td>\n",
       "      <td>0.173802</td>\n",
       "      <td>0.0</td>\n",
       "      <td>0.0</td>\n",
       "      <td>1.0</td>\n",
       "      <td>0.0</td>\n",
       "      <td>1.0</td>\n",
       "      <td>0.0</td>\n",
       "      <td>0.0</td>\n",
       "      <td>1.0</td>\n",
       "    </tr>\n",
       "  </tbody>\n",
       "</table>\n",
       "</div>"
      ],
      "text/plain": [
       "   gender       age  phone_calls  emails    salary  estimated_expenses  \\\n",
       "0     0.0  0.177419        0.000     0.0  0.412503            0.517787   \n",
       "1     1.0  0.193548        0.125     0.2  0.295806            0.287459   \n",
       "2     0.0  0.193548        0.125     0.3  0.295806            0.089689   \n",
       "3     1.0  0.193548        0.125     0.2  0.295806            0.376244   \n",
       "4     0.0  0.112903        0.125     0.2  0.295806            0.173802   \n",
       "\n",
       "   customer_type_C  customer_type_Q  customer_type_S  offer_class_High  \\\n",
       "0              0.0              0.0              1.0               0.0   \n",
       "1              0.0              0.0              1.0               0.0   \n",
       "2              0.0              0.0              1.0               0.0   \n",
       "3              0.0              0.0              1.0               0.0   \n",
       "4              0.0              0.0              1.0               0.0   \n",
       "\n",
       "   offer_class_Medium  offer_class_Premium  actual  predicted  \n",
       "0                 1.0                  0.0     1.0        1.0  \n",
       "1                 1.0                  0.0     1.0        0.0  \n",
       "2                 1.0                  0.0     0.0        1.0  \n",
       "3                 1.0                  0.0     0.0        0.0  \n",
       "4                 1.0                  0.0     0.0        1.0  "
      ]
     },
     "execution_count": 11,
     "metadata": {},
     "output_type": "execute_result"
    }
   ],
   "source": [
    "df['actual'] = y\n",
    "df['predicted'] = predicted\n",
    "df.head()"
   ]
  },
  {
   "cell_type": "code",
   "execution_count": 12,
   "metadata": {},
   "outputs": [
    {
     "data": {
      "text/plain": [
       "255"
      ]
     },
     "execution_count": 12,
     "metadata": {},
     "output_type": "execute_result"
    }
   ],
   "source": [
    "len(df[df['actual'] != df['predicted']])"
   ]
  },
  {
   "cell_type": "code",
   "execution_count": 13,
   "metadata": {},
   "outputs": [
    {
     "name": "stdout",
     "output_type": "stream",
     "text": [
      "Accuracy comparing to actual values:  80.14018691588785\n"
     ]
    }
   ],
   "source": [
    "print('Accuracy comparing to actual values: ', 100 - (255 * 100 / 1284))"
   ]
  },
  {
   "cell_type": "markdown",
   "metadata": {},
   "source": [
    "## Save predictions to CSV"
   ]
  },
  {
   "cell_type": "code",
   "execution_count": 14,
   "metadata": {},
   "outputs": [],
   "source": [
    "df.to_csv('final_prediction.csv', index=None, header=True)"
   ]
  },
  {
   "cell_type": "code",
   "execution_count": null,
   "metadata": {},
   "outputs": [],
   "source": []
  }
 ],
 "metadata": {
  "kernelspec": {
   "display_name": "Python 3",
   "language": "python",
   "name": "python3"
  },
  "language_info": {
   "codemirror_mode": {
    "name": "ipython",
    "version": 3
   },
   "file_extension": ".py",
   "mimetype": "text/x-python",
   "name": "python",
   "nbconvert_exporter": "python",
   "pygments_lexer": "ipython3",
   "version": "3.7.1"
  }
 },
 "nbformat": 4,
 "nbformat_minor": 2
}
