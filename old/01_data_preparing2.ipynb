{
 "cells": [
  {
   "cell_type": "markdown",
   "metadata": {},
   "source": [
    "# New Offer Success"
   ]
  },
  {
   "cell_type": "markdown",
   "metadata": {},
   "source": [
    "There is a company, which prepared special new offer for their customers. They have a dataset which consists information about their clients and how they reacted to the previous offers."
   ]
  },
  {
   "cell_type": "markdown",
   "metadata": {},
   "source": [
    "## Objectives\n",
    "\n",
    "Your goal is to help them with current offer to provide list of customers who will accept new offer and also senior management would like to know why company should send them this new offer.\n",
    "\n",
    "## Dataset, columns business meaning\n",
    "\n",
    "### Target feature\n",
    "- `accepted` - flag related whether customer accepted or not the offer\n",
    "\n",
    "### Input features\n",
    "- `offer_class` - previous offer class. e.g:\n",
    "- `name` - hashed customer name\n",
    "- `gender` - customer geneder\n",
    "- `age` - age in years\n",
    "- `phone_calls` - number of phone conversations with client during last quarter\n",
    "- `emails` - number of emails sent to client during last 6 months\n",
    "- `customer_code` - customer code\n",
    "- `salary` - customer estimated salary\n",
    "- `offer_code` - previous offer code\n",
    "- `customer_type` - type of customer\n",
    "- `number` - serial number of customer device\n",
    "- `offer_value` - previous offers total value\n",
    "- `estimated_expenses` - estimated expenses"
   ]
  },
  {
   "cell_type": "code",
   "execution_count": 1,
   "metadata": {},
   "outputs": [],
   "source": [
    "import pandas as pd\n",
    "import numpy as np\n",
    "from scipy import stats\n",
    "# conda install pyarrow -c conda-forge\n",
    "import pyarrow\n",
    "import matplotlib.pyplot as plt\n",
    "import seaborn as sns\n",
    "\n",
    "%matplotlib inline"
   ]
  },
  {
   "cell_type": "markdown",
   "metadata": {},
   "source": [
    "## Load the data"
   ]
  },
  {
   "cell_type": "code",
   "execution_count": 31,
   "metadata": {},
   "outputs": [],
   "source": [
    "df = pd.read_parquet('client_database.parquet', engine='pyarrow')"
   ]
  },
  {
   "cell_type": "code",
   "execution_count": 32,
   "metadata": {},
   "outputs": [
    {
     "data": {
      "text/plain": [
       "(1309, 15)"
      ]
     },
     "execution_count": 32,
     "metadata": {},
     "output_type": "execute_result"
    }
   ],
   "source": [
    "oryg_shape = df.shape\n",
    "oryg_shape"
   ]
  },
  {
   "cell_type": "markdown",
   "metadata": {},
   "source": [
    "- The dataset has 1309 rows (observations) and 15 columns (fetures)."
   ]
  },
  {
   "cell_type": "code",
   "execution_count": 33,
   "metadata": {},
   "outputs": [
    {
     "data": {
      "text/html": [
       "<div>\n",
       "<style scoped>\n",
       "    .dataframe tbody tr th:only-of-type {\n",
       "        vertical-align: middle;\n",
       "    }\n",
       "\n",
       "    .dataframe tbody tr th {\n",
       "        vertical-align: top;\n",
       "    }\n",
       "\n",
       "    .dataframe thead th {\n",
       "        text-align: right;\n",
       "    }\n",
       "</style>\n",
       "<table border=\"1\" class=\"dataframe\">\n",
       "  <thead>\n",
       "    <tr style=\"text-align: right;\">\n",
       "      <th></th>\n",
       "      <th>0</th>\n",
       "      <th>1</th>\n",
       "      <th>2</th>\n",
       "      <th>3</th>\n",
       "      <th>4</th>\n",
       "      <th>5</th>\n",
       "    </tr>\n",
       "  </thead>\n",
       "  <tbody>\n",
       "    <tr>\n",
       "      <th>offer_class</th>\n",
       "      <td>Medium</td>\n",
       "      <td>Medium</td>\n",
       "      <td>Medium</td>\n",
       "      <td>Medium</td>\n",
       "      <td>Medium</td>\n",
       "      <td>Medium</td>\n",
       "    </tr>\n",
       "    <tr>\n",
       "      <th>accepted</th>\n",
       "      <td>yes</td>\n",
       "      <td>yes</td>\n",
       "      <td>no</td>\n",
       "      <td>no</td>\n",
       "      <td>no</td>\n",
       "      <td>yes</td>\n",
       "    </tr>\n",
       "    <tr>\n",
       "      <th>name</th>\n",
       "      <td>C7CBB5C5613449B</td>\n",
       "      <td>CFD09C0248BB417</td>\n",
       "      <td>A2A0DC541977473</td>\n",
       "      <td>9068458EB70D427</td>\n",
       "      <td>46F0CD19CF71429</td>\n",
       "      <td>060A000A1260427</td>\n",
       "    </tr>\n",
       "    <tr>\n",
       "      <th>gender</th>\n",
       "      <td>female</td>\n",
       "      <td>male</td>\n",
       "      <td>female</td>\n",
       "      <td>male</td>\n",
       "      <td>female</td>\n",
       "      <td>male</td>\n",
       "    </tr>\n",
       "    <tr>\n",
       "      <th>age</th>\n",
       "      <td>29</td>\n",
       "      <td>NaN</td>\n",
       "      <td>NaN</td>\n",
       "      <td>30</td>\n",
       "      <td>25</td>\n",
       "      <td>48</td>\n",
       "    </tr>\n",
       "    <tr>\n",
       "      <th>phone_calls</th>\n",
       "      <td>0</td>\n",
       "      <td>1</td>\n",
       "      <td>1</td>\n",
       "      <td>1</td>\n",
       "      <td>1</td>\n",
       "      <td>0</td>\n",
       "    </tr>\n",
       "    <tr>\n",
       "      <th>emails</th>\n",
       "      <td>0</td>\n",
       "      <td>2</td>\n",
       "      <td>3</td>\n",
       "      <td>2</td>\n",
       "      <td>2</td>\n",
       "      <td>0</td>\n",
       "    </tr>\n",
       "    <tr>\n",
       "      <th>customer_code</th>\n",
       "      <td>24160</td>\n",
       "      <td>113781</td>\n",
       "      <td>113781</td>\n",
       "      <td>113781</td>\n",
       "      <td>113781</td>\n",
       "      <td>19952</td>\n",
       "    </tr>\n",
       "    <tr>\n",
       "      <th>salary</th>\n",
       "      <td>21133.8</td>\n",
       "      <td>15155</td>\n",
       "      <td>15155</td>\n",
       "      <td>15155</td>\n",
       "      <td>15155</td>\n",
       "      <td>2655</td>\n",
       "    </tr>\n",
       "    <tr>\n",
       "      <th>offer_code</th>\n",
       "      <td>4AB</td>\n",
       "      <td>61A</td>\n",
       "      <td>DB4</td>\n",
       "      <td>9B6</td>\n",
       "      <td>191</td>\n",
       "      <td>62F</td>\n",
       "    </tr>\n",
       "    <tr>\n",
       "      <th>customer_type</th>\n",
       "      <td>S</td>\n",
       "      <td>S</td>\n",
       "      <td>S</td>\n",
       "      <td>S</td>\n",
       "      <td>S</td>\n",
       "      <td>S</td>\n",
       "    </tr>\n",
       "    <tr>\n",
       "      <th>number</th>\n",
       "      <td>9E9FA</td>\n",
       "      <td>1E53D</td>\n",
       "      <td>1.36E+06</td>\n",
       "      <td>F6529</td>\n",
       "      <td>E2FDF</td>\n",
       "      <td>EECA8</td>\n",
       "    </tr>\n",
       "    <tr>\n",
       "      <th>offer_value</th>\n",
       "      <td>57.4266</td>\n",
       "      <td>141.64</td>\n",
       "      <td>154.821</td>\n",
       "      <td>106.256</td>\n",
       "      <td>139.237</td>\n",
       "      <td>62.1698</td>\n",
       "    </tr>\n",
       "    <tr>\n",
       "      <th>estimated_expenses</th>\n",
       "      <td>4692</td>\n",
       "      <td>3164</td>\n",
       "      <td>1852</td>\n",
       "      <td>3753</td>\n",
       "      <td>2410</td>\n",
       "      <td>6009</td>\n",
       "    </tr>\n",
       "    <tr>\n",
       "      <th>center</th>\n",
       "      <td>A</td>\n",
       "      <td>A</td>\n",
       "      <td>A</td>\n",
       "      <td>B</td>\n",
       "      <td>A</td>\n",
       "      <td>B</td>\n",
       "    </tr>\n",
       "  </tbody>\n",
       "</table>\n",
       "</div>"
      ],
      "text/plain": [
       "                                  0                1                2  \\\n",
       "offer_class                  Medium           Medium           Medium   \n",
       "accepted                        yes              yes               no   \n",
       "name                C7CBB5C5613449B  CFD09C0248BB417  A2A0DC541977473   \n",
       "gender                       female             male           female   \n",
       "age                              29              NaN              NaN   \n",
       "phone_calls                       0                1                1   \n",
       "emails                            0                2                3   \n",
       "customer_code                 24160           113781           113781   \n",
       "salary                      21133.8            15155            15155   \n",
       "offer_code                      4AB              61A              DB4   \n",
       "customer_type                     S                S                S   \n",
       "number                        9E9FA            1E53D         1.36E+06   \n",
       "offer_value                 57.4266           141.64          154.821   \n",
       "estimated_expenses             4692             3164             1852   \n",
       "center                            A                A                A   \n",
       "\n",
       "                                  3                4                5  \n",
       "offer_class                  Medium           Medium           Medium  \n",
       "accepted                         no               no              yes  \n",
       "name                9068458EB70D427  46F0CD19CF71429  060A000A1260427  \n",
       "gender                         male           female             male  \n",
       "age                              30               25               48  \n",
       "phone_calls                       1                1                0  \n",
       "emails                            2                2                0  \n",
       "customer_code                113781           113781            19952  \n",
       "salary                        15155            15155             2655  \n",
       "offer_code                      9B6              191              62F  \n",
       "customer_type                     S                S                S  \n",
       "number                        F6529            E2FDF            EECA8  \n",
       "offer_value                 106.256          139.237          62.1698  \n",
       "estimated_expenses             3753             2410             6009  \n",
       "center                            B                A                B  "
      ]
     },
     "execution_count": 33,
     "metadata": {},
     "output_type": "execute_result"
    }
   ],
   "source": [
    "df.head(6).T"
   ]
  },
  {
   "cell_type": "markdown",
   "metadata": {},
   "source": [
    "- There is a categorical feature `center` in the dataset which is not mentioned in the dataset description."
   ]
  },
  {
   "cell_type": "code",
   "execution_count": 34,
   "metadata": {},
   "outputs": [
    {
     "name": "stdout",
     "output_type": "stream",
     "text": [
      "<class 'pandas.core.frame.DataFrame'>\n",
      "Int64Index: 1309 entries, 0 to 1308\n",
      "Data columns (total 15 columns):\n",
      "offer_class           1289 non-null object\n",
      "accepted              1289 non-null object\n",
      "name                  1289 non-null object\n",
      "gender                1289 non-null object\n",
      "age                   877 non-null float64\n",
      "phone_calls           1286 non-null float64\n",
      "emails                1287 non-null float64\n",
      "customer_code         1265 non-null object\n",
      "salary                1281 non-null float64\n",
      "offer_code            1287 non-null object\n",
      "customer_type         1287 non-null object\n",
      "number                1280 non-null object\n",
      "offer_value           1277 non-null float64\n",
      "estimated_expenses    1286 non-null float64\n",
      "center                1306 non-null object\n",
      "dtypes: float64(6), object(9)\n",
      "memory usage: 163.6+ KB\n"
     ]
    }
   ],
   "source": [
    "df.info()"
   ]
  },
  {
   "cell_type": "markdown",
   "metadata": {},
   "source": [
    "- There are 2 types of data: float64 and strings\n",
    "- There are missing values in the dataset with `age` having most of them"
   ]
  },
  {
   "cell_type": "code",
   "execution_count": 35,
   "metadata": {},
   "outputs": [
    {
     "name": "stdout",
     "output_type": "stream",
     "text": [
      "accepted\n",
      "no     800\n",
      "yes    489\n",
      "dtype: int64\n"
     ]
    }
   ],
   "source": [
    "print(df.groupby('accepted').size())"
   ]
  },
  {
   "cell_type": "markdown",
   "metadata": {},
   "source": [
    "- The dataset is slightly imballanced."
   ]
  },
  {
   "cell_type": "markdown",
   "metadata": {},
   "source": [
    "### Numerical features"
   ]
  },
  {
   "cell_type": "code",
   "execution_count": 36,
   "metadata": {},
   "outputs": [
    {
     "data": {
      "text/html": [
       "<div>\n",
       "<style scoped>\n",
       "    .dataframe tbody tr th:only-of-type {\n",
       "        vertical-align: middle;\n",
       "    }\n",
       "\n",
       "    .dataframe tbody tr th {\n",
       "        vertical-align: top;\n",
       "    }\n",
       "\n",
       "    .dataframe thead th {\n",
       "        text-align: right;\n",
       "    }\n",
       "</style>\n",
       "<table border=\"1\" class=\"dataframe\">\n",
       "  <thead>\n",
       "    <tr style=\"text-align: right;\">\n",
       "      <th></th>\n",
       "      <th>age</th>\n",
       "      <th>phone_calls</th>\n",
       "      <th>emails</th>\n",
       "      <th>salary</th>\n",
       "      <th>offer_value</th>\n",
       "      <th>estimated_expenses</th>\n",
       "    </tr>\n",
       "  </thead>\n",
       "  <tbody>\n",
       "    <tr>\n",
       "      <th>0</th>\n",
       "      <td>29.0</td>\n",
       "      <td>0.0</td>\n",
       "      <td>0.0</td>\n",
       "      <td>21133.75</td>\n",
       "      <td>57.426571</td>\n",
       "      <td>4692.0</td>\n",
       "    </tr>\n",
       "    <tr>\n",
       "      <th>1</th>\n",
       "      <td>NaN</td>\n",
       "      <td>1.0</td>\n",
       "      <td>2.0</td>\n",
       "      <td>15155.00</td>\n",
       "      <td>141.639912</td>\n",
       "      <td>3164.0</td>\n",
       "    </tr>\n",
       "    <tr>\n",
       "      <th>2</th>\n",
       "      <td>NaN</td>\n",
       "      <td>1.0</td>\n",
       "      <td>3.0</td>\n",
       "      <td>15155.00</td>\n",
       "      <td>154.821130</td>\n",
       "      <td>1852.0</td>\n",
       "    </tr>\n",
       "    <tr>\n",
       "      <th>3</th>\n",
       "      <td>30.0</td>\n",
       "      <td>1.0</td>\n",
       "      <td>2.0</td>\n",
       "      <td>15155.00</td>\n",
       "      <td>106.256196</td>\n",
       "      <td>3753.0</td>\n",
       "    </tr>\n",
       "    <tr>\n",
       "      <th>4</th>\n",
       "      <td>25.0</td>\n",
       "      <td>1.0</td>\n",
       "      <td>2.0</td>\n",
       "      <td>15155.00</td>\n",
       "      <td>139.237147</td>\n",
       "      <td>2410.0</td>\n",
       "    </tr>\n",
       "  </tbody>\n",
       "</table>\n",
       "</div>"
      ],
      "text/plain": [
       "    age  phone_calls  emails    salary  offer_value  estimated_expenses\n",
       "0  29.0          0.0     0.0  21133.75    57.426571              4692.0\n",
       "1   NaN          1.0     2.0  15155.00   141.639912              3164.0\n",
       "2   NaN          1.0     3.0  15155.00   154.821130              1852.0\n",
       "3  30.0          1.0     2.0  15155.00   106.256196              3753.0\n",
       "4  25.0          1.0     2.0  15155.00   139.237147              2410.0"
      ]
     },
     "execution_count": 36,
     "metadata": {},
     "output_type": "execute_result"
    }
   ],
   "source": [
    "df_num = df.select_dtypes(include = ['float64'])\n",
    "df_num.head()"
   ]
  },
  {
   "cell_type": "code",
   "execution_count": 37,
   "metadata": {},
   "outputs": [
    {
     "data": {
      "text/html": [
       "<div>\n",
       "<style scoped>\n",
       "    .dataframe tbody tr th:only-of-type {\n",
       "        vertical-align: middle;\n",
       "    }\n",
       "\n",
       "    .dataframe tbody tr th {\n",
       "        vertical-align: top;\n",
       "    }\n",
       "\n",
       "    .dataframe thead th {\n",
       "        text-align: right;\n",
       "    }\n",
       "</style>\n",
       "<table border=\"1\" class=\"dataframe\">\n",
       "  <thead>\n",
       "    <tr style=\"text-align: right;\">\n",
       "      <th></th>\n",
       "      <th>age</th>\n",
       "      <th>phone_calls</th>\n",
       "      <th>emails</th>\n",
       "      <th>salary</th>\n",
       "      <th>offer_value</th>\n",
       "      <th>estimated_expenses</th>\n",
       "    </tr>\n",
       "  </thead>\n",
       "  <tbody>\n",
       "    <tr>\n",
       "      <th>count</th>\n",
       "      <td>877.000000</td>\n",
       "      <td>1286.000000</td>\n",
       "      <td>1287.000000</td>\n",
       "      <td>1281.000000</td>\n",
       "      <td>1277.000000</td>\n",
       "      <td>1286.000000</td>\n",
       "    </tr>\n",
       "    <tr>\n",
       "      <th>mean</th>\n",
       "      <td>33.511973</td>\n",
       "      <td>0.497667</td>\n",
       "      <td>0.881896</td>\n",
       "      <td>3297.296011</td>\n",
       "      <td>128.693732</td>\n",
       "      <td>4576.947900</td>\n",
       "    </tr>\n",
       "    <tr>\n",
       "      <th>std</th>\n",
       "      <td>12.247058</td>\n",
       "      <td>1.041360</td>\n",
       "      <td>1.022320</td>\n",
       "      <td>5034.240427</td>\n",
       "      <td>57.677807</td>\n",
       "      <td>1909.458459</td>\n",
       "    </tr>\n",
       "    <tr>\n",
       "      <th>min</th>\n",
       "      <td>18.000000</td>\n",
       "      <td>0.000000</td>\n",
       "      <td>0.000000</td>\n",
       "      <td>0.000000</td>\n",
       "      <td>50.022619</td>\n",
       "      <td>1257.000000</td>\n",
       "    </tr>\n",
       "    <tr>\n",
       "      <th>25%</th>\n",
       "      <td>24.000000</td>\n",
       "      <td>0.000000</td>\n",
       "      <td>0.000000</td>\n",
       "      <td>789.580000</td>\n",
       "      <td>82.632085</td>\n",
       "      <td>2934.750000</td>\n",
       "    </tr>\n",
       "    <tr>\n",
       "      <th>50%</th>\n",
       "      <td>30.000000</td>\n",
       "      <td>0.000000</td>\n",
       "      <td>1.000000</td>\n",
       "      <td>1445.420000</td>\n",
       "      <td>118.645478</td>\n",
       "      <td>4544.000000</td>\n",
       "    </tr>\n",
       "    <tr>\n",
       "      <th>75%</th>\n",
       "      <td>41.000000</td>\n",
       "      <td>1.000000</td>\n",
       "      <td>1.000000</td>\n",
       "      <td>3127.500000</td>\n",
       "      <td>162.482961</td>\n",
       "      <td>6225.750000</td>\n",
       "    </tr>\n",
       "    <tr>\n",
       "      <th>max</th>\n",
       "      <td>80.000000</td>\n",
       "      <td>8.000000</td>\n",
       "      <td>10.000000</td>\n",
       "      <td>51232.920000</td>\n",
       "      <td>368.668534</td>\n",
       "      <td>7891.000000</td>\n",
       "    </tr>\n",
       "  </tbody>\n",
       "</table>\n",
       "</div>"
      ],
      "text/plain": [
       "              age  phone_calls       emails        salary  offer_value  \\\n",
       "count  877.000000  1286.000000  1287.000000   1281.000000  1277.000000   \n",
       "mean    33.511973     0.497667     0.881896   3297.296011   128.693732   \n",
       "std     12.247058     1.041360     1.022320   5034.240427    57.677807   \n",
       "min     18.000000     0.000000     0.000000      0.000000    50.022619   \n",
       "25%     24.000000     0.000000     0.000000    789.580000    82.632085   \n",
       "50%     30.000000     0.000000     1.000000   1445.420000   118.645478   \n",
       "75%     41.000000     1.000000     1.000000   3127.500000   162.482961   \n",
       "max     80.000000     8.000000    10.000000  51232.920000   368.668534   \n",
       "\n",
       "       estimated_expenses  \n",
       "count         1286.000000  \n",
       "mean          4576.947900  \n",
       "std           1909.458459  \n",
       "min           1257.000000  \n",
       "25%           2934.750000  \n",
       "50%           4544.000000  \n",
       "75%           6225.750000  \n",
       "max           7891.000000  "
      ]
     },
     "execution_count": 37,
     "metadata": {},
     "output_type": "execute_result"
    }
   ],
   "source": [
    "df_num.describe()"
   ]
  },
  {
   "cell_type": "code",
   "execution_count": 38,
   "metadata": {},
   "outputs": [
    {
     "data": {
      "text/plain": [
       "age                   617\n",
       "phone_calls           877\n",
       "emails                877\n",
       "salary                873\n",
       "offer_value           868\n",
       "estimated_expenses    876\n",
       "dtype: int64"
      ]
     },
     "execution_count": 38,
     "metadata": {},
     "output_type": "execute_result"
    }
   ],
   "source": [
    "df_num[df_num.phone_calls == 0].count()"
   ]
  },
  {
   "cell_type": "code",
   "execution_count": 39,
   "metadata": {},
   "outputs": [
    {
     "data": {
      "text/plain": [
       "age                    8\n",
       "phone_calls           17\n",
       "emails                17\n",
       "salary                17\n",
       "offer_value           17\n",
       "estimated_expenses    17\n",
       "dtype: int64"
      ]
     },
     "execution_count": 39,
     "metadata": {},
     "output_type": "execute_result"
    }
   ],
   "source": [
    "df_num[df_num.salary == 0].count()"
   ]
  },
  {
   "cell_type": "code",
   "execution_count": 40,
   "metadata": {},
   "outputs": [
    {
     "data": {
      "text/plain": [
       "age                   0\n",
       "phone_calls           0\n",
       "emails                0\n",
       "salary                0\n",
       "offer_value           0\n",
       "estimated_expenses    0\n",
       "dtype: int64"
      ]
     },
     "execution_count": 40,
     "metadata": {},
     "output_type": "execute_result"
    }
   ],
   "source": [
    "df_num[df_num.offer_value == 0].count()"
   ]
  },
  {
   "cell_type": "code",
   "execution_count": 41,
   "metadata": {},
   "outputs": [
    {
     "name": "stdout",
     "output_type": "stream",
     "text": [
      "Feature: age\n",
      "Enique values count: 73\n",
      "Unique values ratio: 0.05576776165011459\n",
      "Missing values ratio: 0.3300229182582124\n",
      "Median: 30.0\n",
      "------------------------------------\n",
      "\n",
      "Feature: phone_calls\n",
      "Enique values count: 8\n",
      "Unique values ratio: 0.006111535523300229\n",
      "Missing values ratio: 0.01757066462948816\n",
      "Median: 0.0\n",
      "------------------------------------\n",
      "\n",
      "Feature: emails\n",
      "Enique values count: 11\n",
      "Unique values ratio: 0.008403361344537815\n",
      "Missing values ratio: 0.01680672268907563\n",
      "Median: 1.0\n",
      "------------------------------------\n",
      "\n",
      "Feature: salary\n",
      "Enique values count: 282\n",
      "Unique values ratio: 0.21543162719633308\n",
      "Missing values ratio: 0.0213903743315508\n",
      "Median: 1445.42\n",
      "------------------------------------\n",
      "\n",
      "Feature: offer_value\n",
      "Enique values count: 1278\n",
      "Unique values ratio: 0.9763177998472116\n",
      "Missing values ratio: 0.024446142093200916\n",
      "Median: 118.6454777\n",
      "------------------------------------\n",
      "\n",
      "Feature: estimated_expenses\n",
      "Enique values count: 1186\n",
      "Unique values ratio: 0.906035141329259\n",
      "Missing values ratio: 0.01757066462948816\n",
      "Median: 4544.0\n",
      "------------------------------------\n",
      "\n"
     ]
    }
   ],
   "source": [
    "n = len(df_num)\n",
    "for column in df_num:    \n",
    "    n_unique = len(df_num[column].unique())\n",
    "    print('Feature: {}'.format(column))\n",
    "    print('Enique values count: {}'.format(n_unique))\n",
    "    print('Unique values ratio: {}'.format(n_unique / n))\n",
    "    print('Missing values ratio: {}'.format(df_num[column].isnull().sum() / n))\n",
    "    print('Median: {}'.format(df_num[column].median()))\n",
    "    print('------------------------------------')\n",
    "    \n",
    "    print()"
   ]
  },
  {
   "cell_type": "markdown",
   "metadata": {},
   "source": [
    "- There are 6 numerical features.\n",
    "- The range of their values needs to be standardized.\n",
    "- There are no kids represented in the dataset (min. age is 18). 25% of customers is 24 years old or below. Next 25% are customers of age 25-30. Next 25% of customers is up to 41 years old, and last 25% of customers are 42-80.\n",
    "- There were 2-8 phone calls made only to 25% of customers. The rest got 0 or 1.\n",
    "- 50% of customers got 0 or 1 email, 25% of customers got 2-10 emails.\n",
    "- The min. salary is 0, median 1445.42 and max. 51232.\n",
    "- The previous offers values range between 50 and 368 with the median of 119.\n",
    "- Estimated expenses values range between 1257 and 7891 with the median of 4544."
   ]
  },
  {
   "cell_type": "markdown",
   "metadata": {},
   "source": [
    "### Categorical Features"
   ]
  },
  {
   "cell_type": "code",
   "execution_count": 42,
   "metadata": {},
   "outputs": [],
   "source": [
    "#list(set(df.dtypes.tolist()))\n",
    "#df_cat = df.select_dtypes(include = ['O'])"
   ]
  },
  {
   "cell_type": "code",
   "execution_count": 43,
   "metadata": {},
   "outputs": [
    {
     "data": {
      "text/html": [
       "<div>\n",
       "<style scoped>\n",
       "    .dataframe tbody tr th:only-of-type {\n",
       "        vertical-align: middle;\n",
       "    }\n",
       "\n",
       "    .dataframe tbody tr th {\n",
       "        vertical-align: top;\n",
       "    }\n",
       "\n",
       "    .dataframe thead th {\n",
       "        text-align: right;\n",
       "    }\n",
       "</style>\n",
       "<table border=\"1\" class=\"dataframe\">\n",
       "  <thead>\n",
       "    <tr style=\"text-align: right;\">\n",
       "      <th></th>\n",
       "      <th>offer_code</th>\n",
       "      <th>center</th>\n",
       "      <th>gender</th>\n",
       "      <th>accepted</th>\n",
       "      <th>offer_class</th>\n",
       "      <th>customer_code</th>\n",
       "      <th>number</th>\n",
       "      <th>customer_type</th>\n",
       "      <th>name</th>\n",
       "    </tr>\n",
       "  </thead>\n",
       "  <tbody>\n",
       "    <tr>\n",
       "      <th>0</th>\n",
       "      <td>4AB</td>\n",
       "      <td>A</td>\n",
       "      <td>female</td>\n",
       "      <td>yes</td>\n",
       "      <td>Medium</td>\n",
       "      <td>24160</td>\n",
       "      <td>9E9FA</td>\n",
       "      <td>S</td>\n",
       "      <td>C7CBB5C5613449B</td>\n",
       "    </tr>\n",
       "    <tr>\n",
       "      <th>1</th>\n",
       "      <td>61A</td>\n",
       "      <td>A</td>\n",
       "      <td>male</td>\n",
       "      <td>yes</td>\n",
       "      <td>Medium</td>\n",
       "      <td>113781</td>\n",
       "      <td>1E53D</td>\n",
       "      <td>S</td>\n",
       "      <td>CFD09C0248BB417</td>\n",
       "    </tr>\n",
       "    <tr>\n",
       "      <th>2</th>\n",
       "      <td>DB4</td>\n",
       "      <td>A</td>\n",
       "      <td>female</td>\n",
       "      <td>no</td>\n",
       "      <td>Medium</td>\n",
       "      <td>113781</td>\n",
       "      <td>1.36E+06</td>\n",
       "      <td>S</td>\n",
       "      <td>A2A0DC541977473</td>\n",
       "    </tr>\n",
       "    <tr>\n",
       "      <th>3</th>\n",
       "      <td>9B6</td>\n",
       "      <td>B</td>\n",
       "      <td>male</td>\n",
       "      <td>no</td>\n",
       "      <td>Medium</td>\n",
       "      <td>113781</td>\n",
       "      <td>F6529</td>\n",
       "      <td>S</td>\n",
       "      <td>9068458EB70D427</td>\n",
       "    </tr>\n",
       "    <tr>\n",
       "      <th>4</th>\n",
       "      <td>191</td>\n",
       "      <td>A</td>\n",
       "      <td>female</td>\n",
       "      <td>no</td>\n",
       "      <td>Medium</td>\n",
       "      <td>113781</td>\n",
       "      <td>E2FDF</td>\n",
       "      <td>S</td>\n",
       "      <td>46F0CD19CF71429</td>\n",
       "    </tr>\n",
       "  </tbody>\n",
       "</table>\n",
       "</div>"
      ],
      "text/plain": [
       "  offer_code center  gender accepted offer_class customer_code    number  \\\n",
       "0        4AB      A  female      yes      Medium         24160     9E9FA   \n",
       "1        61A      A    male      yes      Medium        113781     1E53D   \n",
       "2        DB4      A  female       no      Medium        113781  1.36E+06   \n",
       "3        9B6      B    male       no      Medium        113781     F6529   \n",
       "4        191      A  female       no      Medium        113781     E2FDF   \n",
       "\n",
       "  customer_type             name  \n",
       "0             S  C7CBB5C5613449B  \n",
       "1             S  CFD09C0248BB417  \n",
       "2             S  A2A0DC541977473  \n",
       "3             S  9068458EB70D427  \n",
       "4             S  46F0CD19CF71429  "
      ]
     },
     "execution_count": 43,
     "metadata": {},
     "output_type": "execute_result"
    }
   ],
   "source": [
    "df_cat = df[list(set(df.columns) - set(df_num.columns))]\n",
    "df_cat.head()"
   ]
  },
  {
   "cell_type": "code",
   "execution_count": 44,
   "metadata": {},
   "outputs": [
    {
     "name": "stdout",
     "output_type": "stream",
     "text": [
      "---------------------\n",
      "Feature name: offer_code\n",
      "Unique values count (including NaN): 1102\n",
      "Variability ratio: 0.8418640183346066\n",
      "Values count (not null): 1287\n",
      "Values count (null): 22\n",
      "Missing values ratio: 0.01680672268907563\n",
      "\n",
      "---------------------\n",
      "Feature name: center\n",
      "Unique values count (including NaN): 3\n",
      "Most frequent values:\n",
      "center\n",
      "A    603\n",
      "B    703\n",
      "dtype: int64\n",
      "Variability ratio: 0.002291825821237586\n",
      "Values count (not null): 1306\n",
      "Values count (null): 3\n",
      "Missing values ratio: 0.002291825821237586\n",
      "\n",
      "---------------------\n",
      "Feature name: gender\n",
      "Unique values count (including NaN): 3\n",
      "Most frequent values:\n",
      "gender\n",
      "female    458\n",
      "male      831\n",
      "dtype: int64\n",
      "Variability ratio: 0.002291825821237586\n",
      "Values count (not null): 1289\n",
      "Values count (null): 20\n",
      "Missing values ratio: 0.015278838808250574\n",
      "\n",
      "---------------------\n",
      "Feature name: accepted\n",
      "Unique values count (including NaN): 3\n",
      "Most frequent values:\n",
      "accepted\n",
      "no     800\n",
      "yes    489\n",
      "dtype: int64\n",
      "Variability ratio: 0.002291825821237586\n",
      "Values count (not null): 1289\n",
      "Values count (null): 20\n",
      "Missing values ratio: 0.015278838808250574\n",
      "\n",
      "---------------------\n",
      "Feature name: offer_class\n",
      "Unique values count (including NaN): 4\n",
      "Most frequent values:\n",
      "offer_class\n",
      "High       272\n",
      "Medium     322\n",
      "Premium    695\n",
      "dtype: int64\n",
      "Variability ratio: 0.0030557677616501145\n",
      "Values count (not null): 1289\n",
      "Values count (null): 20\n",
      "Missing values ratio: 0.015278838808250574\n",
      "\n",
      "---------------------\n",
      "Feature name: customer_code\n",
      "Unique values count (including NaN): 900\n",
      "Variability ratio: 0.6875477463712758\n",
      "Values count (not null): 1265\n",
      "Values count (null): 44\n",
      "Missing values ratio: 0.03361344537815126\n",
      "\n",
      "---------------------\n",
      "Feature name: number\n",
      "Unique values count (including NaN): 1280\n",
      "Variability ratio: 0.9778456837280367\n",
      "Values count (not null): 1280\n",
      "Values count (null): 29\n",
      "Missing values ratio: 0.02215431627196333\n",
      "\n",
      "---------------------\n",
      "Feature name: customer_type\n",
      "Unique values count (including NaN): 4\n",
      "Most frequent values:\n",
      "customer_type\n",
      "C    268\n",
      "Q    120\n",
      "S    899\n",
      "dtype: int64\n",
      "Variability ratio: 0.0030557677616501145\n",
      "Values count (not null): 1287\n",
      "Values count (null): 22\n",
      "Missing values ratio: 0.01680672268907563\n",
      "\n",
      "---------------------\n",
      "Feature name: name\n",
      "Unique values count (including NaN): 1290\n",
      "Variability ratio: 0.985485103132162\n",
      "Values count (not null): 1289\n",
      "Values count (null): 20\n",
      "Missing values ratio: 0.015278838808250574\n",
      "\n"
     ]
    }
   ],
   "source": [
    "#feature_unique_values = {}\n",
    "n = len(df_cat)\n",
    "for column in df_cat:\n",
    "    n_unique = len(df_cat[column].unique())\n",
    "    #feature_unique_values[column] = n_unique\n",
    "    print('---------------------')\n",
    "    print('Feature name: {}'.format(column))\n",
    "    print('Unique values count (including NaN): {}'.format(n_unique))\n",
    "    if n_unique <= 5:\n",
    "        print('Most frequent values:')\n",
    "        print(df_cat.groupby(column).size())\n",
    "    print('Variability ratio: {}'.format(n_unique / n))\n",
    "    print('Values count (not null): {}'.format(df_cat[column].notnull().sum()))\n",
    "    print('Values count (null): {}'.format(df_cat[column].isnull().sum()))\n",
    "    print('Missing values ratio: {}'.format(df_cat[column].isnull().sum() / n))\n",
    "    print()"
   ]
  },
  {
   "cell_type": "markdown",
   "metadata": {},
   "source": [
    "- I will remove `number`, `name`, `offer_code`, `customer_code` from features list as these are kind of ID\n",
    "- ??? what to do with `customer_code`, how to encode 900 different values?"
   ]
  },
  {
   "cell_type": "code",
   "execution_count": 45,
   "metadata": {},
   "outputs": [],
   "source": [
    "df.drop(columns=['number', 'name', 'offer_code', 'customer_code'], inplace=True)"
   ]
  },
  {
   "cell_type": "markdown",
   "metadata": {},
   "source": [
    "### Missing values"
   ]
  },
  {
   "cell_type": "code",
   "execution_count": 46,
   "metadata": {},
   "outputs": [],
   "source": [
    "def extract_columns_with_nans(df):\n",
    "    columns_with_nans = df.isnull().sum()[df.isnull().sum() > 0]\n",
    "    dic_nan = {'nans_count': columns_with_nans.values, 'percent': np.round(columns_with_nans.values * 100 / df.shape[0], 2)}\n",
    "    df_nan = pd.DataFrame(data=dic_nan, index=columns_with_nans.index)\n",
    "    df_nan.sort_values(by='percent', ascending=False, inplace=True)\n",
    "    return df_nan"
   ]
  },
  {
   "cell_type": "code",
   "execution_count": 47,
   "metadata": {},
   "outputs": [
    {
     "data": {
      "text/html": [
       "<div>\n",
       "<style scoped>\n",
       "    .dataframe tbody tr th:only-of-type {\n",
       "        vertical-align: middle;\n",
       "    }\n",
       "\n",
       "    .dataframe tbody tr th {\n",
       "        vertical-align: top;\n",
       "    }\n",
       "\n",
       "    .dataframe thead th {\n",
       "        text-align: right;\n",
       "    }\n",
       "</style>\n",
       "<table border=\"1\" class=\"dataframe\">\n",
       "  <thead>\n",
       "    <tr style=\"text-align: right;\">\n",
       "      <th></th>\n",
       "      <th>nans_count</th>\n",
       "      <th>percent</th>\n",
       "    </tr>\n",
       "  </thead>\n",
       "  <tbody>\n",
       "    <tr>\n",
       "      <th>age</th>\n",
       "      <td>432</td>\n",
       "      <td>33.00</td>\n",
       "    </tr>\n",
       "    <tr>\n",
       "      <th>offer_value</th>\n",
       "      <td>32</td>\n",
       "      <td>2.44</td>\n",
       "    </tr>\n",
       "    <tr>\n",
       "      <th>salary</th>\n",
       "      <td>28</td>\n",
       "      <td>2.14</td>\n",
       "    </tr>\n",
       "    <tr>\n",
       "      <th>phone_calls</th>\n",
       "      <td>23</td>\n",
       "      <td>1.76</td>\n",
       "    </tr>\n",
       "    <tr>\n",
       "      <th>estimated_expenses</th>\n",
       "      <td>23</td>\n",
       "      <td>1.76</td>\n",
       "    </tr>\n",
       "    <tr>\n",
       "      <th>emails</th>\n",
       "      <td>22</td>\n",
       "      <td>1.68</td>\n",
       "    </tr>\n",
       "    <tr>\n",
       "      <th>customer_type</th>\n",
       "      <td>22</td>\n",
       "      <td>1.68</td>\n",
       "    </tr>\n",
       "    <tr>\n",
       "      <th>offer_class</th>\n",
       "      <td>20</td>\n",
       "      <td>1.53</td>\n",
       "    </tr>\n",
       "    <tr>\n",
       "      <th>accepted</th>\n",
       "      <td>20</td>\n",
       "      <td>1.53</td>\n",
       "    </tr>\n",
       "    <tr>\n",
       "      <th>gender</th>\n",
       "      <td>20</td>\n",
       "      <td>1.53</td>\n",
       "    </tr>\n",
       "    <tr>\n",
       "      <th>center</th>\n",
       "      <td>3</td>\n",
       "      <td>0.23</td>\n",
       "    </tr>\n",
       "  </tbody>\n",
       "</table>\n",
       "</div>"
      ],
      "text/plain": [
       "                    nans_count  percent\n",
       "age                        432    33.00\n",
       "offer_value                 32     2.44\n",
       "salary                      28     2.14\n",
       "phone_calls                 23     1.76\n",
       "estimated_expenses          23     1.76\n",
       "emails                      22     1.68\n",
       "customer_type               22     1.68\n",
       "offer_class                 20     1.53\n",
       "accepted                    20     1.53\n",
       "gender                      20     1.53\n",
       "center                       3     0.23"
      ]
     },
     "execution_count": 47,
     "metadata": {},
     "output_type": "execute_result"
    }
   ],
   "source": [
    "# Missing values by column\n",
    "df_nan = extract_columns_with_nans(df)\n",
    "df_nan"
   ]
  },
  {
   "cell_type": "code",
   "execution_count": 48,
   "metadata": {},
   "outputs": [
    {
     "data": {
      "text/plain": [
       "count    1309.000000\n",
       "mean        0.492743\n",
       "std         1.281836\n",
       "min         0.000000\n",
       "25%         0.000000\n",
       "50%         0.000000\n",
       "75%         1.000000\n",
       "max        10.000000\n",
       "dtype: float64"
      ]
     },
     "execution_count": 48,
     "metadata": {},
     "output_type": "execute_result"
    }
   ],
   "source": [
    "# Missing values by row\n",
    "missing_data_by_row = df.isnull().sum(axis=1)\n",
    "missing_data_by_row.describe()"
   ]
  },
  {
   "cell_type": "markdown",
   "metadata": {},
   "source": [
    "- 25% of rows have between 1 and 14 missing values.\n",
    "- `age`, `offer_value`, `salary`, `phone_calls`, `estimated_expenses`, `emails` - NaNs will be filled with the median.\n",
    "- `customer_code` - I will remove 44 rows with NaNs as I do not know how to deal with missing values and leaving them as additional category, would skew the original distribution.\n",
    "- I will remove rows with `center` (3), `offer_code` (2) and `customer_type' (2)"
   ]
  },
  {
   "cell_type": "code",
   "execution_count": 49,
   "metadata": {},
   "outputs": [],
   "source": [
    "# Replace age, offer_value NaN with the feature median\n",
    "df[['age']] = df[['age']].fillna(df.median())\n",
    "df[['offer_value']] = df[['offer_value']].fillna(df.median())\n",
    "df[['salary']] = df[['salary']].fillna(df.median())\n",
    "df[['phone_calls']] = df[['phone_calls']].fillna(df.median())\n",
    "df[['estimated_expenses']] = df[['estimated_expenses']].fillna(df.median())\n",
    "df[['emails']] = df[['emails']].fillna(df.median())"
   ]
  },
  {
   "cell_type": "code",
   "execution_count": 50,
   "metadata": {},
   "outputs": [],
   "source": [
    "#df.loc[df['customer_code'].isna()]\n",
    "#df.loc[df['column_name'].isin(some_values)]"
   ]
  },
  {
   "cell_type": "code",
   "execution_count": 51,
   "metadata": {},
   "outputs": [
    {
     "data": {
      "text/html": [
       "<div>\n",
       "<style scoped>\n",
       "    .dataframe tbody tr th:only-of-type {\n",
       "        vertical-align: middle;\n",
       "    }\n",
       "\n",
       "    .dataframe tbody tr th {\n",
       "        vertical-align: top;\n",
       "    }\n",
       "\n",
       "    .dataframe thead th {\n",
       "        text-align: right;\n",
       "    }\n",
       "</style>\n",
       "<table border=\"1\" class=\"dataframe\">\n",
       "  <thead>\n",
       "    <tr style=\"text-align: right;\">\n",
       "      <th></th>\n",
       "      <th>nans_count</th>\n",
       "      <th>percent</th>\n",
       "    </tr>\n",
       "  </thead>\n",
       "  <tbody>\n",
       "    <tr>\n",
       "      <th>customer_type</th>\n",
       "      <td>22</td>\n",
       "      <td>1.68</td>\n",
       "    </tr>\n",
       "    <tr>\n",
       "      <th>offer_class</th>\n",
       "      <td>20</td>\n",
       "      <td>1.53</td>\n",
       "    </tr>\n",
       "    <tr>\n",
       "      <th>accepted</th>\n",
       "      <td>20</td>\n",
       "      <td>1.53</td>\n",
       "    </tr>\n",
       "    <tr>\n",
       "      <th>gender</th>\n",
       "      <td>20</td>\n",
       "      <td>1.53</td>\n",
       "    </tr>\n",
       "    <tr>\n",
       "      <th>center</th>\n",
       "      <td>3</td>\n",
       "      <td>0.23</td>\n",
       "    </tr>\n",
       "  </tbody>\n",
       "</table>\n",
       "</div>"
      ],
      "text/plain": [
       "               nans_count  percent\n",
       "customer_type          22     1.68\n",
       "offer_class            20     1.53\n",
       "accepted               20     1.53\n",
       "gender                 20     1.53\n",
       "center                  3     0.23"
      ]
     },
     "execution_count": 51,
     "metadata": {},
     "output_type": "execute_result"
    }
   ],
   "source": [
    "df_nan = extract_columns_with_nans(df)\n",
    "df_nan"
   ]
  },
  {
   "cell_type": "code",
   "execution_count": 52,
   "metadata": {},
   "outputs": [],
   "source": [
    "# Abandon rows where there is NaN in the center, offer_code and customer_type columns\n",
    "df = df[~df.center.isna()]\n",
    "#df = df[~df.offer_code.isna()]\n",
    "df = df[~df.customer_type.isna()]"
   ]
  },
  {
   "cell_type": "code",
   "execution_count": 53,
   "metadata": {},
   "outputs": [
    {
     "data": {
      "text/html": [
       "<div>\n",
       "<style scoped>\n",
       "    .dataframe tbody tr th:only-of-type {\n",
       "        vertical-align: middle;\n",
       "    }\n",
       "\n",
       "    .dataframe tbody tr th {\n",
       "        vertical-align: top;\n",
       "    }\n",
       "\n",
       "    .dataframe thead th {\n",
       "        text-align: right;\n",
       "    }\n",
       "</style>\n",
       "<table border=\"1\" class=\"dataframe\">\n",
       "  <thead>\n",
       "    <tr style=\"text-align: right;\">\n",
       "      <th></th>\n",
       "      <th>nans_count</th>\n",
       "      <th>percent</th>\n",
       "    </tr>\n",
       "  </thead>\n",
       "  <tbody>\n",
       "  </tbody>\n",
       "</table>\n",
       "</div>"
      ],
      "text/plain": [
       "Empty DataFrame\n",
       "Columns: [nans_count, percent]\n",
       "Index: []"
      ]
     },
     "execution_count": 53,
     "metadata": {},
     "output_type": "execute_result"
    }
   ],
   "source": [
    "df_nan = extract_columns_with_nans(df)\n",
    "df_nan"
   ]
  },
  {
   "cell_type": "code",
   "execution_count": 54,
   "metadata": {},
   "outputs": [
    {
     "data": {
      "text/plain": [
       "(1284, 11)"
      ]
     },
     "execution_count": 54,
     "metadata": {},
     "output_type": "execute_result"
    }
   ],
   "source": [
    "clean_shape = df.shape\n",
    "clean_shape"
   ]
  },
  {
   "cell_type": "code",
   "execution_count": 55,
   "metadata": {},
   "outputs": [
    {
     "name": "stdout",
     "output_type": "stream",
     "text": [
      "Number (percent) of removed features: 4 (26.67%)\n",
      "Number (percent) of removed observations (with NaNs): 25 (1.91%)\n"
     ]
    }
   ],
   "source": [
    "# Initial & complete dataset comparison\n",
    "num_removed_cols = oryg_shape[1] - clean_shape[1]\n",
    "num_removed_cols_ratio = np.around(num_removed_cols * 100 / oryg_shape[1], 2)\n",
    "num_removed_rows = oryg_shape[0] - clean_shape[0]\n",
    "num_removed_rows_ratio = np.around(num_removed_rows * 100 / oryg_shape[0], 2)\n",
    "print('Number (percent) of removed features: {} ({}%)'.format(num_removed_cols, num_removed_cols_ratio))\n",
    "print('Number (percent) of removed observations (with NaNs): {} ({}%)'.format(num_removed_rows, num_removed_rows_ratio))"
   ]
  },
  {
   "cell_type": "code",
   "execution_count": 56,
   "metadata": {},
   "outputs": [
    {
     "data": {
      "text/html": [
       "<div>\n",
       "<style scoped>\n",
       "    .dataframe tbody tr th:only-of-type {\n",
       "        vertical-align: middle;\n",
       "    }\n",
       "\n",
       "    .dataframe tbody tr th {\n",
       "        vertical-align: top;\n",
       "    }\n",
       "\n",
       "    .dataframe thead th {\n",
       "        text-align: right;\n",
       "    }\n",
       "</style>\n",
       "<table border=\"1\" class=\"dataframe\">\n",
       "  <thead>\n",
       "    <tr style=\"text-align: right;\">\n",
       "      <th></th>\n",
       "      <th>offer_class</th>\n",
       "      <th>accepted</th>\n",
       "      <th>gender</th>\n",
       "      <th>age</th>\n",
       "      <th>phone_calls</th>\n",
       "      <th>emails</th>\n",
       "      <th>salary</th>\n",
       "      <th>customer_type</th>\n",
       "      <th>offer_value</th>\n",
       "      <th>estimated_expenses</th>\n",
       "      <th>center</th>\n",
       "    </tr>\n",
       "  </thead>\n",
       "  <tbody>\n",
       "    <tr>\n",
       "      <th>0</th>\n",
       "      <td>Medium</td>\n",
       "      <td>yes</td>\n",
       "      <td>female</td>\n",
       "      <td>29.0</td>\n",
       "      <td>0.0</td>\n",
       "      <td>0.0</td>\n",
       "      <td>21133.75</td>\n",
       "      <td>S</td>\n",
       "      <td>57.426571</td>\n",
       "      <td>4692.0</td>\n",
       "      <td>A</td>\n",
       "    </tr>\n",
       "    <tr>\n",
       "      <th>1</th>\n",
       "      <td>Medium</td>\n",
       "      <td>yes</td>\n",
       "      <td>male</td>\n",
       "      <td>30.0</td>\n",
       "      <td>1.0</td>\n",
       "      <td>2.0</td>\n",
       "      <td>15155.00</td>\n",
       "      <td>S</td>\n",
       "      <td>141.639912</td>\n",
       "      <td>3164.0</td>\n",
       "      <td>A</td>\n",
       "    </tr>\n",
       "    <tr>\n",
       "      <th>2</th>\n",
       "      <td>Medium</td>\n",
       "      <td>no</td>\n",
       "      <td>female</td>\n",
       "      <td>30.0</td>\n",
       "      <td>1.0</td>\n",
       "      <td>3.0</td>\n",
       "      <td>15155.00</td>\n",
       "      <td>S</td>\n",
       "      <td>154.821130</td>\n",
       "      <td>1852.0</td>\n",
       "      <td>A</td>\n",
       "    </tr>\n",
       "    <tr>\n",
       "      <th>3</th>\n",
       "      <td>Medium</td>\n",
       "      <td>no</td>\n",
       "      <td>male</td>\n",
       "      <td>30.0</td>\n",
       "      <td>1.0</td>\n",
       "      <td>2.0</td>\n",
       "      <td>15155.00</td>\n",
       "      <td>S</td>\n",
       "      <td>106.256196</td>\n",
       "      <td>3753.0</td>\n",
       "      <td>B</td>\n",
       "    </tr>\n",
       "    <tr>\n",
       "      <th>4</th>\n",
       "      <td>Medium</td>\n",
       "      <td>no</td>\n",
       "      <td>female</td>\n",
       "      <td>25.0</td>\n",
       "      <td>1.0</td>\n",
       "      <td>2.0</td>\n",
       "      <td>15155.00</td>\n",
       "      <td>S</td>\n",
       "      <td>139.237147</td>\n",
       "      <td>2410.0</td>\n",
       "      <td>A</td>\n",
       "    </tr>\n",
       "  </tbody>\n",
       "</table>\n",
       "</div>"
      ],
      "text/plain": [
       "  offer_class accepted  gender   age  phone_calls  emails    salary  \\\n",
       "0      Medium      yes  female  29.0          0.0     0.0  21133.75   \n",
       "1      Medium      yes    male  30.0          1.0     2.0  15155.00   \n",
       "2      Medium       no  female  30.0          1.0     3.0  15155.00   \n",
       "3      Medium       no    male  30.0          1.0     2.0  15155.00   \n",
       "4      Medium       no  female  25.0          1.0     2.0  15155.00   \n",
       "\n",
       "  customer_type  offer_value  estimated_expenses center  \n",
       "0             S    57.426571              4692.0      A  \n",
       "1             S   141.639912              3164.0      A  \n",
       "2             S   154.821130              1852.0      A  \n",
       "3             S   106.256196              3753.0      B  \n",
       "4             S   139.237147              2410.0      A  "
      ]
     },
     "execution_count": 56,
     "metadata": {},
     "output_type": "execute_result"
    }
   ],
   "source": [
    "df.head()"
   ]
  },
  {
   "cell_type": "code",
   "execution_count": 57,
   "metadata": {},
   "outputs": [],
   "source": [
    "# Gather all data cleaning operations in one function\n",
    "def clean_data(df):\n",
    "\n",
    "    # Drop unneeded columns\n",
    "    df.drop(columns=['number', 'name', 'offer_code', 'customer_code'], inplace=True)\n",
    "    \n",
    "    # Replace age, offer_value NaN with the feature median\n",
    "    df[['age']] = df[['age']].fillna(df.median())\n",
    "    df[['offer_value']] = df[['offer_value']].fillna(df.median())\n",
    "    df[['salary']] = df[['salary']].fillna(df.median())\n",
    "    df[['phone_calls']] = df[['phone_calls']].fillna(df.median())\n",
    "    df[['estimated_expenses']] = df[['estimated_expenses']].fillna(df.median())\n",
    "    df[['emails']] = df[['emails']].fillna(df.median())\n",
    "    \n",
    "    # Abandon rows where there is NaN in the center, offer_code and customer_type columns\n",
    "    df = df[~df.center.isna()]\n",
    "    #df = df[~df.offer_code.isna()]\n",
    "    df = df[~df.customer_type.isna()]\n",
    "    \n",
    "    return df"
   ]
  },
  {
   "cell_type": "code",
   "execution_count": 58,
   "metadata": {},
   "outputs": [
    {
     "name": "stdout",
     "output_type": "stream",
     "text": [
      "(1284, 11) (1284, 11)\n"
     ]
    }
   ],
   "source": [
    "# Test clean_data function\n",
    "shape1 = df.shape\n",
    "df2 = pd.read_parquet('client_database.parquet', engine='pyarrow')\n",
    "df2 = clean_data(df2)\n",
    "shape2 = df2.shape\n",
    "\n",
    "print(shape1, shape2)"
   ]
  },
  {
   "cell_type": "code",
   "execution_count": 59,
   "metadata": {},
   "outputs": [
    {
     "data": {
      "text/html": [
       "<div>\n",
       "<style scoped>\n",
       "    .dataframe tbody tr th:only-of-type {\n",
       "        vertical-align: middle;\n",
       "    }\n",
       "\n",
       "    .dataframe tbody tr th {\n",
       "        vertical-align: top;\n",
       "    }\n",
       "\n",
       "    .dataframe thead th {\n",
       "        text-align: right;\n",
       "    }\n",
       "</style>\n",
       "<table border=\"1\" class=\"dataframe\">\n",
       "  <thead>\n",
       "    <tr style=\"text-align: right;\">\n",
       "      <th></th>\n",
       "      <th>offer_class</th>\n",
       "      <th>accepted</th>\n",
       "      <th>gender</th>\n",
       "      <th>age</th>\n",
       "      <th>phone_calls</th>\n",
       "      <th>emails</th>\n",
       "      <th>salary</th>\n",
       "      <th>customer_type</th>\n",
       "      <th>offer_value</th>\n",
       "      <th>estimated_expenses</th>\n",
       "      <th>center</th>\n",
       "    </tr>\n",
       "  </thead>\n",
       "  <tbody>\n",
       "    <tr>\n",
       "      <th>0</th>\n",
       "      <td>Medium</td>\n",
       "      <td>yes</td>\n",
       "      <td>female</td>\n",
       "      <td>29.0</td>\n",
       "      <td>0.0</td>\n",
       "      <td>0.0</td>\n",
       "      <td>21133.75</td>\n",
       "      <td>S</td>\n",
       "      <td>57.426571</td>\n",
       "      <td>4692.0</td>\n",
       "      <td>A</td>\n",
       "    </tr>\n",
       "    <tr>\n",
       "      <th>1</th>\n",
       "      <td>Medium</td>\n",
       "      <td>yes</td>\n",
       "      <td>male</td>\n",
       "      <td>30.0</td>\n",
       "      <td>1.0</td>\n",
       "      <td>2.0</td>\n",
       "      <td>15155.00</td>\n",
       "      <td>S</td>\n",
       "      <td>141.639912</td>\n",
       "      <td>3164.0</td>\n",
       "      <td>A</td>\n",
       "    </tr>\n",
       "    <tr>\n",
       "      <th>2</th>\n",
       "      <td>Medium</td>\n",
       "      <td>no</td>\n",
       "      <td>female</td>\n",
       "      <td>30.0</td>\n",
       "      <td>1.0</td>\n",
       "      <td>3.0</td>\n",
       "      <td>15155.00</td>\n",
       "      <td>S</td>\n",
       "      <td>154.821130</td>\n",
       "      <td>1852.0</td>\n",
       "      <td>A</td>\n",
       "    </tr>\n",
       "    <tr>\n",
       "      <th>3</th>\n",
       "      <td>Medium</td>\n",
       "      <td>no</td>\n",
       "      <td>male</td>\n",
       "      <td>30.0</td>\n",
       "      <td>1.0</td>\n",
       "      <td>2.0</td>\n",
       "      <td>15155.00</td>\n",
       "      <td>S</td>\n",
       "      <td>106.256196</td>\n",
       "      <td>3753.0</td>\n",
       "      <td>B</td>\n",
       "    </tr>\n",
       "    <tr>\n",
       "      <th>4</th>\n",
       "      <td>Medium</td>\n",
       "      <td>no</td>\n",
       "      <td>female</td>\n",
       "      <td>25.0</td>\n",
       "      <td>1.0</td>\n",
       "      <td>2.0</td>\n",
       "      <td>15155.00</td>\n",
       "      <td>S</td>\n",
       "      <td>139.237147</td>\n",
       "      <td>2410.0</td>\n",
       "      <td>A</td>\n",
       "    </tr>\n",
       "  </tbody>\n",
       "</table>\n",
       "</div>"
      ],
      "text/plain": [
       "  offer_class accepted  gender   age  phone_calls  emails    salary  \\\n",
       "0      Medium      yes  female  29.0          0.0     0.0  21133.75   \n",
       "1      Medium      yes    male  30.0          1.0     2.0  15155.00   \n",
       "2      Medium       no  female  30.0          1.0     3.0  15155.00   \n",
       "3      Medium       no    male  30.0          1.0     2.0  15155.00   \n",
       "4      Medium       no  female  25.0          1.0     2.0  15155.00   \n",
       "\n",
       "  customer_type  offer_value  estimated_expenses center  \n",
       "0             S    57.426571              4692.0      A  \n",
       "1             S   141.639912              3164.0      A  \n",
       "2             S   154.821130              1852.0      A  \n",
       "3             S   106.256196              3753.0      B  \n",
       "4             S   139.237147              2410.0      A  "
      ]
     },
     "execution_count": 59,
     "metadata": {},
     "output_type": "execute_result"
    }
   ],
   "source": [
    "df2.head()"
   ]
  },
  {
   "cell_type": "code",
   "execution_count": 60,
   "metadata": {},
   "outputs": [],
   "source": [
    "# Save clean dataset\n",
    "filename = 'client_database_clean.parquet'\n",
    "df.to_parquet(filename)"
   ]
  },
  {
   "cell_type": "code",
   "execution_count": 61,
   "metadata": {},
   "outputs": [
    {
     "data": {
      "text/plain": [
       "(1284, 11)"
      ]
     },
     "execution_count": 61,
     "metadata": {},
     "output_type": "execute_result"
    }
   ],
   "source": [
    "# Test\n",
    "df3 = pd.read_parquet(filename, engine='pyarrow')\n",
    "df3.shape"
   ]
  },
  {
   "cell_type": "code",
   "execution_count": 62,
   "metadata": {},
   "outputs": [
    {
     "data": {
      "text/html": [
       "<div>\n",
       "<style scoped>\n",
       "    .dataframe tbody tr th:only-of-type {\n",
       "        vertical-align: middle;\n",
       "    }\n",
       "\n",
       "    .dataframe tbody tr th {\n",
       "        vertical-align: top;\n",
       "    }\n",
       "\n",
       "    .dataframe thead th {\n",
       "        text-align: right;\n",
       "    }\n",
       "</style>\n",
       "<table border=\"1\" class=\"dataframe\">\n",
       "  <thead>\n",
       "    <tr style=\"text-align: right;\">\n",
       "      <th></th>\n",
       "      <th>offer_class</th>\n",
       "      <th>accepted</th>\n",
       "      <th>gender</th>\n",
       "      <th>age</th>\n",
       "      <th>phone_calls</th>\n",
       "      <th>emails</th>\n",
       "      <th>salary</th>\n",
       "      <th>customer_type</th>\n",
       "      <th>offer_value</th>\n",
       "      <th>estimated_expenses</th>\n",
       "      <th>center</th>\n",
       "    </tr>\n",
       "  </thead>\n",
       "  <tbody>\n",
       "    <tr>\n",
       "      <th>0</th>\n",
       "      <td>Medium</td>\n",
       "      <td>yes</td>\n",
       "      <td>female</td>\n",
       "      <td>29.0</td>\n",
       "      <td>0.0</td>\n",
       "      <td>0.0</td>\n",
       "      <td>21133.75</td>\n",
       "      <td>S</td>\n",
       "      <td>57.426571</td>\n",
       "      <td>4692.0</td>\n",
       "      <td>A</td>\n",
       "    </tr>\n",
       "    <tr>\n",
       "      <th>1</th>\n",
       "      <td>Medium</td>\n",
       "      <td>yes</td>\n",
       "      <td>male</td>\n",
       "      <td>30.0</td>\n",
       "      <td>1.0</td>\n",
       "      <td>2.0</td>\n",
       "      <td>15155.00</td>\n",
       "      <td>S</td>\n",
       "      <td>141.639912</td>\n",
       "      <td>3164.0</td>\n",
       "      <td>A</td>\n",
       "    </tr>\n",
       "    <tr>\n",
       "      <th>2</th>\n",
       "      <td>Medium</td>\n",
       "      <td>no</td>\n",
       "      <td>female</td>\n",
       "      <td>30.0</td>\n",
       "      <td>1.0</td>\n",
       "      <td>3.0</td>\n",
       "      <td>15155.00</td>\n",
       "      <td>S</td>\n",
       "      <td>154.821130</td>\n",
       "      <td>1852.0</td>\n",
       "      <td>A</td>\n",
       "    </tr>\n",
       "    <tr>\n",
       "      <th>3</th>\n",
       "      <td>Medium</td>\n",
       "      <td>no</td>\n",
       "      <td>male</td>\n",
       "      <td>30.0</td>\n",
       "      <td>1.0</td>\n",
       "      <td>2.0</td>\n",
       "      <td>15155.00</td>\n",
       "      <td>S</td>\n",
       "      <td>106.256196</td>\n",
       "      <td>3753.0</td>\n",
       "      <td>B</td>\n",
       "    </tr>\n",
       "    <tr>\n",
       "      <th>4</th>\n",
       "      <td>Medium</td>\n",
       "      <td>no</td>\n",
       "      <td>female</td>\n",
       "      <td>25.0</td>\n",
       "      <td>1.0</td>\n",
       "      <td>2.0</td>\n",
       "      <td>15155.00</td>\n",
       "      <td>S</td>\n",
       "      <td>139.237147</td>\n",
       "      <td>2410.0</td>\n",
       "      <td>A</td>\n",
       "    </tr>\n",
       "  </tbody>\n",
       "</table>\n",
       "</div>"
      ],
      "text/plain": [
       "  offer_class accepted  gender   age  phone_calls  emails    salary  \\\n",
       "0      Medium      yes  female  29.0          0.0     0.0  21133.75   \n",
       "1      Medium      yes    male  30.0          1.0     2.0  15155.00   \n",
       "2      Medium       no  female  30.0          1.0     3.0  15155.00   \n",
       "3      Medium       no    male  30.0          1.0     2.0  15155.00   \n",
       "4      Medium       no  female  25.0          1.0     2.0  15155.00   \n",
       "\n",
       "  customer_type  offer_value  estimated_expenses center  \n",
       "0             S    57.426571              4692.0      A  \n",
       "1             S   141.639912              3164.0      A  \n",
       "2             S   154.821130              1852.0      A  \n",
       "3             S   106.256196              3753.0      B  \n",
       "4             S   139.237147              2410.0      A  "
      ]
     },
     "execution_count": 62,
     "metadata": {},
     "output_type": "execute_result"
    }
   ],
   "source": [
    "df3.head()"
   ]
  },
  {
   "cell_type": "markdown",
   "metadata": {},
   "source": [
    "### Encode categorical features"
   ]
  },
  {
   "cell_type": "code",
   "execution_count": null,
   "metadata": {},
   "outputs": [],
   "source": [
    "df_cat = df[list(set(df.columns) - set(df_num.columns))]\n",
    "df_cat.head()"
   ]
  },
  {
   "cell_type": "code",
   "execution_count": null,
   "metadata": {},
   "outputs": [],
   "source": [
    "cat_binary = []\n",
    "cat_multi = []\n",
    "for feature in df_cat:\n",
    "    if df_cat[feature].nunique() > 2:\n",
    "        cat_multi.append(feature)\n",
    "    else:\n",
    "        cat_binary.append(feature)"
   ]
  },
  {
   "cell_type": "code",
   "execution_count": null,
   "metadata": {},
   "outputs": [],
   "source": [
    "cat_binary"
   ]
  },
  {
   "cell_type": "code",
   "execution_count": null,
   "metadata": {},
   "outputs": [],
   "source": [
    "cat_multi"
   ]
  },
  {
   "cell_type": "code",
   "execution_count": null,
   "metadata": {},
   "outputs": [],
   "source": [
    "# Encode binary features\n",
    "for column in cat_binary:\n",
    "    print(df_cat[column].value_counts())"
   ]
  },
  {
   "cell_type": "code",
   "execution_count": null,
   "metadata": {},
   "outputs": [],
   "source": [
    "df['center'].replace(['B', 'A'], [1, 0], inplace=True)\n",
    "df['gender'].replace(['male', 'female'], [1, 0], inplace=True)\n",
    "df['accepted'].replace(['yes', 'no'], [1, 0], inplace=True)"
   ]
  },
  {
   "cell_type": "code",
   "execution_count": null,
   "metadata": {},
   "outputs": [],
   "source": [
    "df_cat = df[list(set(df.columns) - set(df_num.columns))]\n",
    "df_cat.head()"
   ]
  },
  {
   "cell_type": "code",
   "execution_count": null,
   "metadata": {},
   "outputs": [],
   "source": [
    "# Encode multi-class features\n",
    "for column in cat_multi:\n",
    "    print(df_cat[column].value_counts())"
   ]
  },
  {
   "cell_type": "code",
   "execution_count": null,
   "metadata": {},
   "outputs": [],
   "source": [
    "# One-hot-encoding\n",
    "df = pd.get_dummies(df, columns=cat_multi)"
   ]
  },
  {
   "cell_type": "code",
   "execution_count": null,
   "metadata": {},
   "outputs": [],
   "source": [
    "# Get new features in df_cat\n",
    "df_cat = df[list(set(df.columns) - set(df_num.columns))]\n",
    "df_cat.head()"
   ]
  },
  {
   "cell_type": "code",
   "execution_count": null,
   "metadata": {},
   "outputs": [],
   "source": [
    "# Re-order columns in the dataset for better (human) visibility\n",
    "columns = df.columns\n",
    "columns"
   ]
  },
  {
   "cell_type": "code",
   "execution_count": null,
   "metadata": {},
   "outputs": [],
   "source": [
    "ordered_columns = ['accepted', 'gender', 'age', 'phone_calls', 'emails', \n",
    "                   'salary', 'offer_value', 'estimated_expenses', 'center', \n",
    "                   'customer_type_C', 'customer_type_Q', 'customer_type_S', \n",
    "                   'offer_class_High', 'offer_class_Medium', 'offer_class_Premium']\n",
    "\n",
    "df = df[ordered_columns]\n",
    "df.head()"
   ]
  },
  {
   "cell_type": "markdown",
   "metadata": {},
   "source": [
    "### Correlations"
   ]
  },
  {
   "cell_type": "code",
   "execution_count": null,
   "metadata": {},
   "outputs": [],
   "source": [
    "corr = df.corr()\n",
    "corr"
   ]
  },
  {
   "cell_type": "code",
   "execution_count": null,
   "metadata": {},
   "outputs": [],
   "source": [
    "# Correlation matrix\n",
    "fig = plt.figure(figsize=(12,12))\n",
    "ax = fig.add_subplot(111)\n",
    "cax = ax.matshow(df.corr(), vmin=-1, vmax=1, interpolation='none') \n",
    "fig.colorbar(cax)\n",
    "plt.show();"
   ]
  },
  {
   "cell_type": "code",
   "execution_count": null,
   "metadata": {},
   "outputs": [],
   "source": [
    "c = corr['accepted']\n",
    "print(c.sort_values(ascending=False))"
   ]
  },
  {
   "cell_type": "code",
   "execution_count": null,
   "metadata": {},
   "outputs": [],
   "source": [
    "# Remove columns not correlated enough with the targer feature\n",
    "c = c[c.abs() < 0.01]\n",
    "columns_to_drop = c.sort_values(ascending=False)\n",
    "columns_to_drop"
   ]
  },
  {
   "cell_type": "code",
   "execution_count": null,
   "metadata": {},
   "outputs": [],
   "source": [
    "df.drop(columns=list(columns_to_drop.index), inplace=True)"
   ]
  },
  {
   "cell_type": "code",
   "execution_count": null,
   "metadata": {},
   "outputs": [],
   "source": [
    "def correlated_columns(df, min_corr_level=0.95):\n",
    "    corr_matrix = df.corr().abs()\n",
    "    upper = corr_matrix.where(np.triu(np.ones(corr_matrix.shape), k=1).astype(np.bool))\n",
    "    to_drop = [column for column in upper.columns if any(upper[column] > min_corr_level)]\n",
    "    return to_drop"
   ]
  },
  {
   "cell_type": "code",
   "execution_count": null,
   "metadata": {},
   "outputs": [],
   "source": [
    "columns_to_drop = correlated_columns(df, min_corr_level=0.75)\n",
    "columns_to_drop"
   ]
  },
  {
   "cell_type": "code",
   "execution_count": null,
   "metadata": {},
   "outputs": [],
   "source": [
    "# Let's see to which other feature customer_type_S is correlated\n",
    "print(corr['customer_type_S'].sort_values(ascending=False))"
   ]
  },
  {
   "cell_type": "code",
   "execution_count": null,
   "metadata": {},
   "outputs": [],
   "source": []
  },
  {
   "cell_type": "code",
   "execution_count": null,
   "metadata": {},
   "outputs": [],
   "source": [
    "df.drop(columns=columns_to_drop, inplace=True)"
   ]
  },
  {
   "cell_type": "code",
   "execution_count": null,
   "metadata": {},
   "outputs": [],
   "source": [
    "df.head()"
   ]
  },
  {
   "cell_type": "code",
   "execution_count": null,
   "metadata": {},
   "outputs": [],
   "source": [
    "df.shape"
   ]
  },
  {
   "cell_type": "code",
   "execution_count": null,
   "metadata": {},
   "outputs": [],
   "source": []
  },
  {
   "cell_type": "code",
   "execution_count": null,
   "metadata": {},
   "outputs": [],
   "source": []
  },
  {
   "cell_type": "markdown",
   "metadata": {},
   "source": [
    "### Rescaling\n",
    "\n",
    "This is useful for optimization algorithms used in the core of machine learning algorithms like gradient descent. It is also useful for algorithms that weight inputs like regression and neural networks and algorithms that use distance measures like k-Nearest Neighbors."
   ]
  },
  {
   "cell_type": "code",
   "execution_count": null,
   "metadata": {},
   "outputs": [],
   "source": [
    "# Rescale data between 0 and 1\n",
    "# separate array into input and output components\n",
    "#array = dataframe.values\n",
    "#X = array[:,0:8]\n",
    "#Y = array[:,8]\n",
    "#scaler = MinMaxScaler(feature_range=(0, 1))\n",
    "#rescaledX = scaler.fit_transform(X)"
   ]
  },
  {
   "cell_type": "code",
   "execution_count": null,
   "metadata": {},
   "outputs": [],
   "source": [
    "array = df_num.values"
   ]
  },
  {
   "cell_type": "code",
   "execution_count": null,
   "metadata": {},
   "outputs": [],
   "source": [
    "array"
   ]
  },
  {
   "cell_type": "code",
   "execution_count": null,
   "metadata": {},
   "outputs": [],
   "source": [
    "#scaler = MinMaxScaler(feature_range=(0, 1))\n",
    "#rescaledX = scaler.fit_transform(array)"
   ]
  },
  {
   "cell_type": "code",
   "execution_count": null,
   "metadata": {},
   "outputs": [],
   "source": [
    "df_num"
   ]
  },
  {
   "cell_type": "code",
   "execution_count": null,
   "metadata": {},
   "outputs": [],
   "source": [
    "#scaler = MinMaxScaler(feature_range=(0, 1))\n",
    "#df['age'] = scaler.fit_transform('age')\n",
    "\n",
    "scaler = RobustScaler()\n",
    "\n",
    "col = df['age'].values.reshape(-1, 1)\n",
    "\n",
    "robust_scaled_df = scaler.fit_transform(col)\n",
    "robust_scaled_df = pd.DataFrame(robust_scaled_df, columns=['age'])\n",
    "robust_scaled_df"
   ]
  },
  {
   "cell_type": "code",
   "execution_count": null,
   "metadata": {},
   "outputs": [],
   "source": [
    "fig, (ax1, ax2, ax3) = plt.subplots(ncols=3, figsize=(9, 5))\n",
    "ax1.set_title('Before Scaling')\n",
    "sns.kdeplot(x['x1'], ax=ax1)\n",
    "sns.kdeplot(x['x2'], ax=ax1)\n",
    "ax2.set_title('After Robust Scaling')\n",
    "sns.kdeplot(robust_scaled_df['x1'], ax=ax2)\n",
    "sns.kdeplot(robust_scaled_df['x2'], ax=ax2)\n",
    "ax3.set_title('After Min-Max Scaling')\n",
    "sns.kdeplot(minmax_scaled_df['x1'], ax=ax3)\n",
    "sns.kdeplot(minmax_scaled_df['x2'], ax=ax3)\n",
    "plt.show()"
   ]
  },
  {
   "cell_type": "markdown",
   "metadata": {},
   "source": [
    "### Numerical data transformations"
   ]
  },
  {
   "cell_type": "code",
   "execution_count": null,
   "metadata": {},
   "outputs": [],
   "source": [
    "# Ensure there are no missing values before transformin data\n",
    "df_num = df.select_dtypes(include = ['float64'])\n",
    "df_num.head()"
   ]
  },
  {
   "cell_type": "code",
   "execution_count": null,
   "metadata": {},
   "outputs": [],
   "source": [
    "n = len(df_num)\n",
    "for column in df_num:\n",
    "    # Distribution\n",
    "    fig = plt.figure(figsize=(18, 8))\n",
    "    fig.suptitle(column)\n",
    "    ax1 = fig.add_subplot(121)\n",
    "    ax1.title.set_text('Distribution Plot')\n",
    "    sns.distplot(df_num[column], bins=50, hist_kws={'alpha': 0.4}) \n",
    "\n",
    "    # QQ-plot\n",
    "    ax2 = fig.add_subplot(122)\n",
    "    stats.probplot(df_num[column], plot=plt, dist='norm')\n",
    "    plt.show();"
   ]
  },
  {
   "cell_type": "code",
   "execution_count": null,
   "metadata": {},
   "outputs": [],
   "source": [
    "df_num['offer_value']"
   ]
  },
  {
   "cell_type": "code",
   "execution_count": null,
   "metadata": {},
   "outputs": [],
   "source": [
    "# BoxCox: This will not work for all num variables as BoxCox requires values > 0 (only age conforms this)\n",
    "def normalize_num_features(df, columns = []):\n",
    "    # This will not work for all num variables as BoxCox requires values > 0 (only age conforms this)\n",
    "    df_num_normalized = pd.DataFrame()\n",
    "    n = len(df)\n",
    "\n",
    "    df_num = pd.DataFrame()\n",
    "    df_num[columns] = df[columns]\n",
    "\n",
    "    for column in df_num:\n",
    "\n",
    "        # Distribution\n",
    "        fig = plt.figure(figsize=(18, 8))\n",
    "\n",
    "        ax1 = fig.add_subplot(221)\n",
    "        ax1.title.set_text('Distribution Plot')\n",
    "        sns.distplot(df_num[column], bins=50, hist_kws={'alpha': 0.4}) \n",
    "\n",
    "        # QQ-plot\n",
    "        ax2 = fig.add_subplot(222)\n",
    "        stats.probplot(df_num[column], plot=plt, dist='norm')\n",
    "\n",
    "        # Box-Cox Transformation\n",
    "        # http://www.kmdatascience.com/2017/07/box-cox-transformations-in-python.html\n",
    "        transform = np.asarray(df[[column]].values)\n",
    "        dft = stats.boxcox(transform)[0]\n",
    "        df_num_normalized[column] = pd.Series(dft.ravel())\n",
    "\n",
    "        ax3 = fig.add_subplot(223)\n",
    "        ax3.title.set_text('Normalized Distribution Plot')\n",
    "        sns.distplot(dft, bins=50, hist_kws={'alpha': 0.4})\n",
    "\n",
    "        ax4 = fig.add_subplot(224)\n",
    "        ax4.title.set_text('')\n",
    "        stats.probplot(df_num_normalized[column], plot=plt, dist='norm')\n",
    "\n",
    "        plt.tight_layout()\n",
    "        plt.show();\n",
    "\n",
    "        n_unique = len(df_num[column].unique())\n",
    "        print('Feature: {}'.format(column))\n",
    "        print('Enique values count: {}'.format(n_unique))\n",
    "        print('Unique values ratio: {}'.format(n_unique / n))\n",
    "        print('Missing values ratio: {}'.format(df_num[column].isnull().sum() / n))\n",
    "        print('Median: {}'.format(df_num[column].median()))\n",
    "        print('------------------------------------')\n",
    "\n",
    "        print()\n",
    "        \n",
    "    return df_num_normalized"
   ]
  },
  {
   "cell_type": "code",
   "execution_count": null,
   "metadata": {},
   "outputs": [],
   "source": [
    "df_num_normalized = normalize_num_features(df_num, columns = ['age', 'offer_value', 'estimated_expenses'])"
   ]
  },
  {
   "cell_type": "code",
   "execution_count": null,
   "metadata": {},
   "outputs": [],
   "source": [
    "# This will not work for all num variables as BoxCox requires values > 0 (only age conforms this)\n",
    "df_num_normalized = pd.DataFrame()\n",
    "n = len(df_num)\n",
    "\n",
    "df_num2 = pd.DataFrame()\n",
    "df_num2[['age', 'offer_value', 'estimated_expenses']] = df_num[['age', 'offer_value', 'estimated_expenses']]\n",
    "\n",
    "for column in df_num:\n",
    "    \n",
    "    # Distribution\n",
    "    fig = plt.figure(figsize=(18, 8))\n",
    "\n",
    "    ax1 = fig.add_subplot(221)\n",
    "    ax1.title.set_text('Distribution Plot')\n",
    "    sns.distplot(df_num[column], bins=50, hist_kws={'alpha': 0.4}) \n",
    "\n",
    "    # QQ-plot\n",
    "    ax2 = fig.add_subplot(222)\n",
    "    stats.probplot(df_num[column], plot=plt, dist='norm')\n",
    "\n",
    "    # Box-Cox Transformation\n",
    "    # http://www.kmdatascience.com/2017/07/box-cox-transformations-in-python.html\n",
    "    transform = np.asarray(df[[column]].values)\n",
    "    dft = stats.boxcox(transform)[0]\n",
    "    df_num_normalized[column] = pd.Series(dft.ravel())\n",
    "    \n",
    "    ax3 = fig.add_subplot(223)\n",
    "    ax3.title.set_text('Normalized Distribution Plot')\n",
    "    sns.distplot(dft, bins=50, hist_kws={'alpha': 0.4})\n",
    "\n",
    "    ax4 = fig.add_subplot(224)\n",
    "    ax4.title.set_text('')\n",
    "    stats.probplot(df_boxcox[column], plot=plt, dist='norm')\n",
    "\n",
    "    plt.tight_layout()\n",
    "    plt.show();\n",
    "    \n",
    "    n_unique = len(df_num[column].unique())\n",
    "    print('Feature: {}'.format(column))\n",
    "    print('Enique values count: {}'.format(n_unique))\n",
    "    print('Unique values ratio: {}'.format(n_unique / n))\n",
    "    print('Missing values ratio: {}'.format(df_num[column].isnull().sum() / n))\n",
    "    print('Median: {}'.format(df_num[column].median()))\n",
    "    print('------------------------------------')\n",
    "    \n",
    "    print()"
   ]
  },
  {
   "cell_type": "code",
   "execution_count": null,
   "metadata": {},
   "outputs": [],
   "source": []
  },
  {
   "cell_type": "code",
   "execution_count": null,
   "metadata": {},
   "outputs": [],
   "source": []
  },
  {
   "cell_type": "code",
   "execution_count": null,
   "metadata": {},
   "outputs": [],
   "source": []
  },
  {
   "cell_type": "code",
   "execution_count": null,
   "metadata": {},
   "outputs": [],
   "source": []
  },
  {
   "cell_type": "code",
   "execution_count": null,
   "metadata": {},
   "outputs": [],
   "source": []
  },
  {
   "cell_type": "code",
   "execution_count": null,
   "metadata": {},
   "outputs": [],
   "source": []
  },
  {
   "cell_type": "code",
   "execution_count": null,
   "metadata": {},
   "outputs": [],
   "source": []
  },
  {
   "cell_type": "code",
   "execution_count": null,
   "metadata": {},
   "outputs": [],
   "source": []
  },
  {
   "cell_type": "code",
   "execution_count": null,
   "metadata": {},
   "outputs": [],
   "source": [
    "df3 = pd.DataFrame()\n",
    "#df3['age'] = dft.tolist()\n",
    "df3"
   ]
  },
  {
   "cell_type": "code",
   "execution_count": null,
   "metadata": {},
   "outputs": [],
   "source": [
    "df3['age'] = pd.Series(dft.ravel())\n",
    "df3['age']"
   ]
  },
  {
   "cell_type": "code",
   "execution_count": null,
   "metadata": {},
   "outputs": [],
   "source": [
    "column = 'age'\n",
    "df_boxcox = pd.DataFrame()\n",
    "\n",
    "#http://www.kmdatascience.com/2017/07/box-cox-transformations-in-python.html\n",
    "\n",
    "# Distribution\n",
    "fig = plt.figure(figsize=(18, 8))\n",
    "#fig.suptitle(column)\n",
    "\n",
    "ax1 = fig.add_subplot(221)\n",
    "ax1.title.set_text('Distribution Plot')\n",
    "sns.distplot(df_num[column], bins=50, hist_kws={'alpha': 0.4}) \n",
    "\n",
    "# QQ-plot\n",
    "ax2 = fig.add_subplot(222)\n",
    "stats.probplot(df_num[column], plot=plt, dist='norm')\n",
    "#ax2.margins(0.5)\n",
    "\n",
    "# Box-Cox Transformation\n",
    "ax3 = fig.add_subplot(223)\n",
    "ax3.title.set_text('Normalized Distribution Plot')\n",
    "transform = np.asarray(df[[column]].values)\n",
    "dft = stats.boxcox(transform)[0]\n",
    "sns.distplot(dft, bins=50, hist_kws={'alpha': 0.4})\n",
    "\n",
    "ax4 = fig.add_subplot(224)\n",
    "df_boxcox[column] = pd.Series(dft.ravel())\n",
    "ax4.title.set_text('')\n",
    "stats.probplot(df_boxcox[column], plot=plt, dist='norm')\n",
    "\n",
    "plt.tight_layout()\n",
    "plt.show()"
   ]
  },
  {
   "cell_type": "code",
   "execution_count": null,
   "metadata": {},
   "outputs": [],
   "source": []
  },
  {
   "cell_type": "code",
   "execution_count": null,
   "metadata": {},
   "outputs": [],
   "source": [
    "\n",
    "df_num.plot(kind='density', subplots=True, layout=(2,8), sharex=False, legend=False, fontsize=1)\n",
    "plt.show();"
   ]
  },
  {
   "cell_type": "code",
   "execution_count": null,
   "metadata": {},
   "outputs": [],
   "source": [
    "# box and whisker plots\n",
    "df_num.plot(kind='box', subplots=True, sharex=False, sharey=False, fontsize=1)\n",
    "plt.show()"
   ]
  },
  {
   "cell_type": "markdown",
   "metadata": {},
   "source": [
    "- attributes do have quite different spreads. Given the scales are the same, it may suggest some benefit in standardizing the data for modeling to get all of the means lined up."
   ]
  },
  {
   "cell_type": "code",
   "execution_count": null,
   "metadata": {},
   "outputs": [],
   "source": [
    "# box and whisker plots\n",
    "df_num_normalized.plot(kind='box', subplots=True, sharex=False, sharey=False, fontsize=1)\n",
    "plt.show()"
   ]
  },
  {
   "cell_type": "code",
   "execution_count": null,
   "metadata": {},
   "outputs": [],
   "source": []
  },
  {
   "cell_type": "code",
   "execution_count": null,
   "metadata": {},
   "outputs": [],
   "source": []
  },
  {
   "cell_type": "code",
   "execution_count": null,
   "metadata": {},
   "outputs": [],
   "source": []
  },
  {
   "cell_type": "code",
   "execution_count": null,
   "metadata": {},
   "outputs": [],
   "source": []
  },
  {
   "cell_type": "code",
   "execution_count": null,
   "metadata": {},
   "outputs": [],
   "source": []
  },
  {
   "cell_type": "code",
   "execution_count": null,
   "metadata": {},
   "outputs": [],
   "source": [
    "# Standardize data"
   ]
  },
  {
   "cell_type": "code",
   "execution_count": null,
   "metadata": {},
   "outputs": [],
   "source": []
  },
  {
   "cell_type": "code",
   "execution_count": null,
   "metadata": {},
   "outputs": [],
   "source": []
  },
  {
   "cell_type": "code",
   "execution_count": null,
   "metadata": {},
   "outputs": [],
   "source": [
    "# Split-out validation dataset\n",
    "array = dataset.values\n",
    "X = array[:,0:60].astype(float)\n",
    "Y = array[:,60]\n",
    "validation_size = 0.20\n",
    "seed = 7\n",
    "X_train, X_validation, Y_train, Y_validation = train_test_split(X, Y,\n",
    "    test_size=validation_size, random_state=seed)"
   ]
  },
  {
   "cell_type": "code",
   "execution_count": null,
   "metadata": {},
   "outputs": [],
   "source": []
  },
  {
   "cell_type": "code",
   "execution_count": null,
   "metadata": {},
   "outputs": [],
   "source": []
  },
  {
   "cell_type": "code",
   "execution_count": null,
   "metadata": {},
   "outputs": [],
   "source": []
  },
  {
   "cell_type": "code",
   "execution_count": null,
   "metadata": {},
   "outputs": [],
   "source": []
  },
  {
   "cell_type": "code",
   "execution_count": null,
   "metadata": {},
   "outputs": [],
   "source": []
  },
  {
   "cell_type": "code",
   "execution_count": null,
   "metadata": {},
   "outputs": [],
   "source": [
    "### Correlations!!!"
   ]
  }
 ],
 "metadata": {
  "kernelspec": {
   "display_name": "Python 3",
   "language": "python",
   "name": "python3"
  },
  "language_info": {
   "codemirror_mode": {
    "name": "ipython",
    "version": 3
   },
   "file_extension": ".py",
   "mimetype": "text/x-python",
   "name": "python",
   "nbconvert_exporter": "python",
   "pygments_lexer": "ipython3",
   "version": "3.7.1"
  }
 },
 "nbformat": 4,
 "nbformat_minor": 2
}
