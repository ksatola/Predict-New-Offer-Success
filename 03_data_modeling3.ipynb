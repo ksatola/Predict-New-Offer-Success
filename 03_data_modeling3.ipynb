{
 "cells": [
  {
   "cell_type": "code",
   "execution_count": 16,
   "metadata": {},
   "outputs": [],
   "source": [
    "import pandas as pd\n",
    "import numpy as np\n",
    "#from scipy import stats\n",
    "\n",
    "import pyarrow\n",
    "\n",
    "import matplotlib.pyplot as plt\n",
    "#import seaborn as sns\n",
    "\n",
    "#from sklearn import preprocessing\n",
    "from sklearn.model_selection import train_test_split\n",
    "\n",
    "#!conda install -c conda-forge xgboost\n",
    "from xgboost import XGBClassifier, plot_importance\n",
    "\n",
    "%matplotlib inline"
   ]
  },
  {
   "cell_type": "markdown",
   "metadata": {},
   "source": [
    "## Load the data"
   ]
  },
  {
   "cell_type": "code",
   "execution_count": 2,
   "metadata": {},
   "outputs": [],
   "source": [
    "df = pd.read_parquet('client_database_preprocessed.parquet', engine='pyarrow')"
   ]
  },
  {
   "cell_type": "code",
   "execution_count": 3,
   "metadata": {},
   "outputs": [
    {
     "data": {
      "text/plain": [
       "(1284, 13)"
      ]
     },
     "execution_count": 3,
     "metadata": {},
     "output_type": "execute_result"
    }
   ],
   "source": [
    "oryg_shape = df.shape\n",
    "oryg_shape"
   ]
  },
  {
   "cell_type": "code",
   "execution_count": 4,
   "metadata": {},
   "outputs": [
    {
     "name": "stdout",
     "output_type": "stream",
     "text": [
      "<class 'pandas.core.frame.DataFrame'>\n",
      "Int64Index: 1284 entries, 0 to 1283\n",
      "Data columns (total 13 columns):\n",
      "accepted               1284 non-null float64\n",
      "gender                 1284 non-null float64\n",
      "age                    1284 non-null float64\n",
      "phone_calls            1284 non-null float64\n",
      "emails                 1284 non-null float64\n",
      "salary                 1284 non-null float64\n",
      "estimated_expenses     1284 non-null float64\n",
      "customer_type_C        1284 non-null float64\n",
      "customer_type_Q        1284 non-null float64\n",
      "customer_type_S        1284 non-null float64\n",
      "offer_class_High       1284 non-null float64\n",
      "offer_class_Medium     1284 non-null float64\n",
      "offer_class_Premium    1284 non-null float64\n",
      "dtypes: float64(13)\n",
      "memory usage: 140.4 KB\n"
     ]
    }
   ],
   "source": [
    "df.info()"
   ]
  },
  {
   "cell_type": "code",
   "execution_count": 5,
   "metadata": {},
   "outputs": [
    {
     "data": {
      "text/html": [
       "<div>\n",
       "<style scoped>\n",
       "    .dataframe tbody tr th:only-of-type {\n",
       "        vertical-align: middle;\n",
       "    }\n",
       "\n",
       "    .dataframe tbody tr th {\n",
       "        vertical-align: top;\n",
       "    }\n",
       "\n",
       "    .dataframe thead th {\n",
       "        text-align: right;\n",
       "    }\n",
       "</style>\n",
       "<table border=\"1\" class=\"dataframe\">\n",
       "  <thead>\n",
       "    <tr style=\"text-align: right;\">\n",
       "      <th></th>\n",
       "      <th>accepted</th>\n",
       "      <th>gender</th>\n",
       "      <th>age</th>\n",
       "      <th>phone_calls</th>\n",
       "      <th>emails</th>\n",
       "      <th>salary</th>\n",
       "      <th>estimated_expenses</th>\n",
       "      <th>customer_type_C</th>\n",
       "      <th>customer_type_Q</th>\n",
       "      <th>customer_type_S</th>\n",
       "      <th>offer_class_High</th>\n",
       "      <th>offer_class_Medium</th>\n",
       "      <th>offer_class_Premium</th>\n",
       "    </tr>\n",
       "  </thead>\n",
       "  <tbody>\n",
       "    <tr>\n",
       "      <th>0</th>\n",
       "      <td>1.0</td>\n",
       "      <td>0.0</td>\n",
       "      <td>0.177419</td>\n",
       "      <td>0.000</td>\n",
       "      <td>0.0</td>\n",
       "      <td>0.412503</td>\n",
       "      <td>0.517787</td>\n",
       "      <td>0.0</td>\n",
       "      <td>0.0</td>\n",
       "      <td>1.0</td>\n",
       "      <td>0.0</td>\n",
       "      <td>1.0</td>\n",
       "      <td>0.0</td>\n",
       "    </tr>\n",
       "    <tr>\n",
       "      <th>1</th>\n",
       "      <td>1.0</td>\n",
       "      <td>1.0</td>\n",
       "      <td>0.193548</td>\n",
       "      <td>0.125</td>\n",
       "      <td>0.2</td>\n",
       "      <td>0.295806</td>\n",
       "      <td>0.287459</td>\n",
       "      <td>0.0</td>\n",
       "      <td>0.0</td>\n",
       "      <td>1.0</td>\n",
       "      <td>0.0</td>\n",
       "      <td>1.0</td>\n",
       "      <td>0.0</td>\n",
       "    </tr>\n",
       "    <tr>\n",
       "      <th>2</th>\n",
       "      <td>0.0</td>\n",
       "      <td>0.0</td>\n",
       "      <td>0.193548</td>\n",
       "      <td>0.125</td>\n",
       "      <td>0.3</td>\n",
       "      <td>0.295806</td>\n",
       "      <td>0.089689</td>\n",
       "      <td>0.0</td>\n",
       "      <td>0.0</td>\n",
       "      <td>1.0</td>\n",
       "      <td>0.0</td>\n",
       "      <td>1.0</td>\n",
       "      <td>0.0</td>\n",
       "    </tr>\n",
       "    <tr>\n",
       "      <th>3</th>\n",
       "      <td>0.0</td>\n",
       "      <td>1.0</td>\n",
       "      <td>0.193548</td>\n",
       "      <td>0.125</td>\n",
       "      <td>0.2</td>\n",
       "      <td>0.295806</td>\n",
       "      <td>0.376244</td>\n",
       "      <td>0.0</td>\n",
       "      <td>0.0</td>\n",
       "      <td>1.0</td>\n",
       "      <td>0.0</td>\n",
       "      <td>1.0</td>\n",
       "      <td>0.0</td>\n",
       "    </tr>\n",
       "    <tr>\n",
       "      <th>4</th>\n",
       "      <td>0.0</td>\n",
       "      <td>0.0</td>\n",
       "      <td>0.112903</td>\n",
       "      <td>0.125</td>\n",
       "      <td>0.2</td>\n",
       "      <td>0.295806</td>\n",
       "      <td>0.173802</td>\n",
       "      <td>0.0</td>\n",
       "      <td>0.0</td>\n",
       "      <td>1.0</td>\n",
       "      <td>0.0</td>\n",
       "      <td>1.0</td>\n",
       "      <td>0.0</td>\n",
       "    </tr>\n",
       "  </tbody>\n",
       "</table>\n",
       "</div>"
      ],
      "text/plain": [
       "   accepted  gender       age  phone_calls  emails    salary  \\\n",
       "0       1.0     0.0  0.177419        0.000     0.0  0.412503   \n",
       "1       1.0     1.0  0.193548        0.125     0.2  0.295806   \n",
       "2       0.0     0.0  0.193548        0.125     0.3  0.295806   \n",
       "3       0.0     1.0  0.193548        0.125     0.2  0.295806   \n",
       "4       0.0     0.0  0.112903        0.125     0.2  0.295806   \n",
       "\n",
       "   estimated_expenses  customer_type_C  customer_type_Q  customer_type_S  \\\n",
       "0            0.517787              0.0              0.0              1.0   \n",
       "1            0.287459              0.0              0.0              1.0   \n",
       "2            0.089689              0.0              0.0              1.0   \n",
       "3            0.376244              0.0              0.0              1.0   \n",
       "4            0.173802              0.0              0.0              1.0   \n",
       "\n",
       "   offer_class_High  offer_class_Medium  offer_class_Premium  \n",
       "0               0.0                 1.0                  0.0  \n",
       "1               0.0                 1.0                  0.0  \n",
       "2               0.0                 1.0                  0.0  \n",
       "3               0.0                 1.0                  0.0  \n",
       "4               0.0                 1.0                  0.0  "
      ]
     },
     "execution_count": 5,
     "metadata": {},
     "output_type": "execute_result"
    }
   ],
   "source": [
    "df.head()"
   ]
  },
  {
   "cell_type": "markdown",
   "metadata": {},
   "source": [
    "## Training and Validation Sets"
   ]
  },
  {
   "cell_type": "code",
   "execution_count": 6,
   "metadata": {},
   "outputs": [],
   "source": [
    "# Randomize the dataset\n",
    "# The frac keyword argument specifies the fraction of rows to return in the random sample, so frac=1 means return all rows (in random order).\n",
    "df = df.sample(frac=1)"
   ]
  },
  {
   "cell_type": "code",
   "execution_count": 7,
   "metadata": {},
   "outputs": [],
   "source": [
    "# Take the target variable out from the dataset\n",
    "y = df.pop('accepted')"
   ]
  },
  {
   "cell_type": "code",
   "execution_count": 8,
   "metadata": {},
   "outputs": [
    {
     "name": "stdout",
     "output_type": "stream",
     "text": [
      "(1027, 12) (1027,)\n",
      "(257, 12) (257,)\n"
     ]
    }
   ],
   "source": [
    "# 80/20 Split\n",
    "seed = 123\n",
    "X_train, X_test, y_train, y_test = train_test_split(df, y, test_size=0.2, random_state=seed)\n",
    "print(X_train.shape, y_train.shape)\n",
    "print(X_test.shape, y_test.shape)"
   ]
  },
  {
   "cell_type": "code",
   "execution_count": 9,
   "metadata": {},
   "outputs": [],
   "source": [
    "classifier = XGBClassifier(objective='binary:logistic', n_estimators=50)"
   ]
  },
  {
   "cell_type": "code",
   "execution_count": 10,
   "metadata": {},
   "outputs": [
    {
     "data": {
      "text/plain": [
       "XGBClassifier(base_score=0.5, booster='gbtree', colsample_bylevel=1,\n",
       "       colsample_bytree=1, gamma=0, learning_rate=0.1, max_delta_step=0,\n",
       "       max_depth=3, min_child_weight=1, missing=None, n_estimators=50,\n",
       "       n_jobs=1, nthread=None, objective='binary:logistic', random_state=0,\n",
       "       reg_alpha=0, reg_lambda=1, scale_pos_weight=1, seed=None,\n",
       "       silent=True, subsample=1)"
      ]
     },
     "execution_count": 10,
     "metadata": {},
     "output_type": "execute_result"
    }
   ],
   "source": [
    "classifier"
   ]
  },
  {
   "cell_type": "code",
   "execution_count": 11,
   "metadata": {},
   "outputs": [
    {
     "name": "stdout",
     "output_type": "stream",
     "text": [
      "[0]\tvalidation_0-logloss:0.652839\tvalidation_1-logloss:0.651478\n",
      "[1]\tvalidation_0-logloss:0.619772\tvalidation_1-logloss:0.617868\n",
      "[2]\tvalidation_0-logloss:0.592321\tvalidation_1-logloss:0.590064\n",
      "[3]\tvalidation_0-logloss:0.56941\tvalidation_1-logloss:0.566607\n",
      "[4]\tvalidation_0-logloss:0.550113\tvalidation_1-logloss:0.548045\n",
      "[5]\tvalidation_0-logloss:0.533763\tvalidation_1-logloss:0.531389\n",
      "[6]\tvalidation_0-logloss:0.519909\tvalidation_1-logloss:0.517753\n",
      "[7]\tvalidation_0-logloss:0.507633\tvalidation_1-logloss:0.505846\n",
      "[8]\tvalidation_0-logloss:0.497101\tvalidation_1-logloss:0.49656\n",
      "[9]\tvalidation_0-logloss:0.488292\tvalidation_1-logloss:0.487255\n",
      "[10]\tvalidation_0-logloss:0.480358\tvalidation_1-logloss:0.48065\n",
      "[11]\tvalidation_0-logloss:0.473628\tvalidation_1-logloss:0.473399\n",
      "[12]\tvalidation_0-logloss:0.467112\tvalidation_1-logloss:0.468023\n",
      "[13]\tvalidation_0-logloss:0.461938\tvalidation_1-logloss:0.462359\n",
      "[14]\tvalidation_0-logloss:0.457431\tvalidation_1-logloss:0.457437\n",
      "[15]\tvalidation_0-logloss:0.452838\tvalidation_1-logloss:0.45429\n",
      "[16]\tvalidation_0-logloss:0.44846\tvalidation_1-logloss:0.450276\n",
      "[17]\tvalidation_0-logloss:0.445378\tvalidation_1-logloss:0.447271\n",
      "[18]\tvalidation_0-logloss:0.442125\tvalidation_1-logloss:0.445463\n",
      "[19]\tvalidation_0-logloss:0.439577\tvalidation_1-logloss:0.443613\n",
      "[20]\tvalidation_0-logloss:0.437191\tvalidation_1-logloss:0.441313\n",
      "[21]\tvalidation_0-logloss:0.434508\tvalidation_1-logloss:0.439727\n",
      "[22]\tvalidation_0-logloss:0.432284\tvalidation_1-logloss:0.439491\n",
      "[23]\tvalidation_0-logloss:0.430269\tvalidation_1-logloss:0.439967\n",
      "[24]\tvalidation_0-logloss:0.428354\tvalidation_1-logloss:0.438532\n",
      "[25]\tvalidation_0-logloss:0.425937\tvalidation_1-logloss:0.437263\n",
      "[26]\tvalidation_0-logloss:0.424406\tvalidation_1-logloss:0.436268\n",
      "[27]\tvalidation_0-logloss:0.422448\tvalidation_1-logloss:0.435424\n",
      "[28]\tvalidation_0-logloss:0.421148\tvalidation_1-logloss:0.434965\n",
      "[29]\tvalidation_0-logloss:0.418763\tvalidation_1-logloss:0.433014\n",
      "[30]\tvalidation_0-logloss:0.417385\tvalidation_1-logloss:0.432562\n",
      "[31]\tvalidation_0-logloss:0.415427\tvalidation_1-logloss:0.432696\n",
      "[32]\tvalidation_0-logloss:0.414369\tvalidation_1-logloss:0.432428\n",
      "[33]\tvalidation_0-logloss:0.412594\tvalidation_1-logloss:0.432065\n",
      "[34]\tvalidation_0-logloss:0.411037\tvalidation_1-logloss:0.432247\n",
      "[35]\tvalidation_0-logloss:0.410309\tvalidation_1-logloss:0.432285\n",
      "[36]\tvalidation_0-logloss:0.408255\tvalidation_1-logloss:0.431955\n",
      "[37]\tvalidation_0-logloss:0.406762\tvalidation_1-logloss:0.430638\n",
      "[38]\tvalidation_0-logloss:0.405946\tvalidation_1-logloss:0.430638\n",
      "[39]\tvalidation_0-logloss:0.405185\tvalidation_1-logloss:0.43059\n",
      "[40]\tvalidation_0-logloss:0.404476\tvalidation_1-logloss:0.430672\n",
      "[41]\tvalidation_0-logloss:0.403935\tvalidation_1-logloss:0.431164\n",
      "[42]\tvalidation_0-logloss:0.402948\tvalidation_1-logloss:0.431016\n",
      "[43]\tvalidation_0-logloss:0.402302\tvalidation_1-logloss:0.431332\n",
      "[44]\tvalidation_0-logloss:0.401304\tvalidation_1-logloss:0.431611\n",
      "[45]\tvalidation_0-logloss:0.400893\tvalidation_1-logloss:0.432205\n",
      "[46]\tvalidation_0-logloss:0.400056\tvalidation_1-logloss:0.432036\n",
      "[47]\tvalidation_0-logloss:0.398915\tvalidation_1-logloss:0.432383\n",
      "[48]\tvalidation_0-logloss:0.398015\tvalidation_1-logloss:0.431345\n",
      "[49]\tvalidation_0-logloss:0.396775\tvalidation_1-logloss:0.430599\n"
     ]
    },
    {
     "data": {
      "text/plain": [
       "XGBClassifier(base_score=0.5, booster='gbtree', colsample_bylevel=1,\n",
       "       colsample_bytree=1, gamma=0, learning_rate=0.1, max_delta_step=0,\n",
       "       max_depth=3, min_child_weight=1, missing=None, n_estimators=50,\n",
       "       n_jobs=1, nthread=None, objective='binary:logistic', random_state=0,\n",
       "       reg_alpha=0, reg_lambda=1, scale_pos_weight=1, seed=None,\n",
       "       silent=True, subsample=1)"
      ]
     },
     "execution_count": 11,
     "metadata": {},
     "output_type": "execute_result"
    }
   ],
   "source": [
    "classifier.fit(X_train, y_train, eval_set=[(X_train, y_train), (X_test, y_test)], eval_metric=['logloss'])"
   ]
  },
  {
   "cell_type": "code",
   "execution_count": 12,
   "metadata": {},
   "outputs": [],
   "source": [
    "eval_result = classifier.evals_result()"
   ]
  },
  {
   "cell_type": "code",
   "execution_count": 13,
   "metadata": {},
   "outputs": [
    {
     "data": {
      "text/plain": [
       "range(0, 50)"
      ]
     },
     "execution_count": 13,
     "metadata": {},
     "output_type": "execute_result"
    }
   ],
   "source": [
    "training_rounds = range(len(eval_result['validation_0']['logloss']))\n",
    "training_rounds"
   ]
  },
  {
   "cell_type": "code",
   "execution_count": null,
   "metadata": {},
   "outputs": [],
   "source": [
    "plt.scatter(x=training_rounds, y=eval_result['validation_0']['logloss'], label=\"Training Error\")\n",
    "plt.scatter(x=training_rounds, y=eval_result['validation_1']['logloss'], label=\"Validation Error\")\n",
    "plt.grid(True)\n",
    "plt.xlabel('Input Feature')\n",
    "plt.ylabel('Logloss')\n",
    "plt.title('Training vs. Validation Error')\n",
    "plt.legend()\n",
    "plt.show();"
   ]
  },
  {
   "cell_type": "code",
   "execution_count": null,
   "metadata": {},
   "outputs": [],
   "source": [
    "plot_importance(classifier)"
   ]
  },
  {
   "cell_type": "code",
   "execution_count": null,
   "metadata": {},
   "outputs": [],
   "source": [
    "# make predictions for test data\n",
    "y_pred = model.predict(X_test)\n",
    "predictions = [round(value) for value in y_pred]"
   ]
  },
  {
   "cell_type": "code",
   "execution_count": null,
   "metadata": {},
   "outputs": [],
   "source": [
    "# evaluate predictions\n",
    "accuracy = accuracy_score(y_test, predictions)\n",
    "print(\"Accuracy: %.2f%%\" % (accuracy * 100.0))"
   ]
  },
  {
   "cell_type": "code",
   "execution_count": null,
   "metadata": {},
   "outputs": [],
   "source": []
  },
  {
   "cell_type": "code",
   "execution_count": null,
   "metadata": {},
   "outputs": [],
   "source": []
  },
  {
   "cell_type": "code",
   "execution_count": null,
   "metadata": {},
   "outputs": [],
   "source": []
  },
  {
   "cell_type": "code",
   "execution_count": null,
   "metadata": {},
   "outputs": [],
   "source": []
  },
  {
   "cell_type": "code",
   "execution_count": null,
   "metadata": {},
   "outputs": [],
   "source": []
  },
  {
   "cell_type": "code",
   "execution_count": null,
   "metadata": {},
   "outputs": [],
   "source": []
  }
 ],
 "metadata": {
  "kernelspec": {
   "display_name": "Python 3",
   "language": "python",
   "name": "python3"
  },
  "language_info": {
   "codemirror_mode": {
    "name": "ipython",
    "version": 3
   },
   "file_extension": ".py",
   "mimetype": "text/x-python",
   "name": "python",
   "nbconvert_exporter": "python",
   "pygments_lexer": "ipython3",
   "version": "3.7.1"
  }
 },
 "nbformat": 4,
 "nbformat_minor": 2
}
